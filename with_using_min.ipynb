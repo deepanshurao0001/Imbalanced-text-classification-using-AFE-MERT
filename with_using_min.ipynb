{
 "cells": [
  {
   "cell_type": "code",
   "execution_count": 4,
   "id": "365dad0f-af2c-47b3-b460-22a0f5770000",
   "metadata": {},
   "outputs": [],
   "source": [
    "import nltk\n",
    "from nltk.corpus import reuters, stopwords\n",
    "from nltk.stem import PorterStemmer\n",
    "from sklearn.feature_extraction.text import TfidfVectorizer\n",
    "from sklearn.svm import LinearSVC\n",
    "from sklearn.metrics import f1_score, classification_report\n",
    "from sklearn.preprocessing import normalize\n",
    "from sklearn.model_selection import train_test_split\n",
    "import numpy as np\n",
    "import math\n",
    "from collections import Counter\n",
    "import pandas as pd\n"
   ]
  },
  {
   "cell_type": "code",
   "execution_count": 8,
   "id": "bab146dd-67db-4505-a48e-fa0e0822b1f9",
   "metadata": {},
   "outputs": [
    {
     "name": "stderr",
     "output_type": "stream",
     "text": [
      "[nltk_data] Downloading package reuters to\n",
      "[nltk_data]     /Users/deepanshurao0001/nltk_data...\n",
      "[nltk_data]   Package reuters is already up-to-date!\n",
      "[nltk_data] Downloading package stopwords to\n",
      "[nltk_data]     /Users/deepanshurao0001/nltk_data...\n",
      "[nltk_data]   Package stopwords is already up-to-date!\n"
     ]
    },
    {
     "data": {
      "text/plain": [
       "True"
      ]
     },
     "execution_count": 8,
     "metadata": {},
     "output_type": "execute_result"
    }
   ],
   "source": [
    "nltk.download('reuters')\n",
    "nltk.download('stopwords')\n"
   ]
  },
  {
   "cell_type": "code",
   "execution_count": 10,
   "id": "a422f780-43bd-4f34-bdbb-79fd614d397c",
   "metadata": {},
   "outputs": [],
   "source": [
    "stop_words = set(stopwords.words('english'))\n",
    "stemmer = PorterStemmer()\n"
   ]
  },
  {
   "cell_type": "code",
   "execution_count": 12,
   "id": "60f76384-1220-4e9d-9fdb-c3b6afba30c7",
   "metadata": {},
   "outputs": [],
   "source": [
    "def load_reuters():\n",
    "    documents = [(reuters.raw(fileid), reuters.categories(fileid)[0])\n",
    "                 for fileid in reuters.fileids() if len(reuters.categories(fileid)) == 1]\n",
    "    df = pd.DataFrame(documents, columns=['text', 'category'])\n",
    "    return df\n"
   ]
  },
  {
   "cell_type": "code",
   "execution_count": 14,
   "id": "d5d62c7e-a855-48f6-8a2b-14e03ff4a190",
   "metadata": {},
   "outputs": [],
   "source": [
    "def preprocess_text(text):\n",
    "    tokens = nltk.word_tokenize(text.lower())\n",
    "    tokens = [stemmer.stem(word) for word in tokens if word.isalpha() and word not in stop_words]\n",
    "    return tokens\n"
   ]
  },
  {
   "cell_type": "code",
   "execution_count": 16,
   "id": "3a11c846-cf9d-4d06-bd95-366888664682",
   "metadata": {},
   "outputs": [],
   "source": [
    "def baseline_model(train_texts, test_texts, train_labels, test_labels):\n",
    "    vectorizer = TfidfVectorizer()\n",
    "    X_train = vectorizer.fit_transform(train_texts)\n",
    "    X_test = vectorizer.transform(test_texts)\n",
    "\n",
    "    # Train classifier\n",
    "    model = LinearSVC()\n",
    "    model.fit(X_train, train_labels)\n",
    "\n",
    "    # Evaluate\n",
    "    predictions = model.predict(X_test)\n",
    "    print(\"\\nBaseline Model Performance (TF-IDF):\")\n",
    "    print(classification_report(test_labels, predictions))\n",
    "    return f1_score(test_labels, predictions, average='macro'), f1_score(test_labels, predictions, average='micro')\n"
   ]
  },
  {
   "cell_type": "code",
   "execution_count": 18,
   "id": "0fc76726-5b67-4c2b-9aef-df49aebf20b2",
   "metadata": {},
   "outputs": [],
   "source": [
    "def afe_mert_features(df, class_frequencies):\n",
    "    terms = Counter()\n",
    "    class_term_frequencies = {}\n",
    "\n",
    "    for _, row in df.iterrows():\n",
    "        class_label = row['category']\n",
    "        text_tokens = preprocess_text(row['text'])\n",
    "        terms.update(text_tokens)\n",
    "        if class_label not in class_term_frequencies:\n",
    "            class_term_frequencies[class_label] = Counter()\n",
    "        class_term_frequencies[class_label].update(text_tokens)\n",
    "\n",
    "    # Calculate RIR\n",
    "    max_class_size = max(class_frequencies.values())\n",
    "    rir = {cls: max_class_size / freq for cls, freq in class_frequencies.items()}\n",
    "\n",
    "    # Create AFE-MERT features\n",
    "    features = []\n",
    "    for _, row in df.iterrows():\n",
    "        text_tokens = preprocess_text(row['text'])\n",
    "        doc_features = []\n",
    "        for cls in class_frequencies.keys():\n",
    "            score = 0\n",
    "            for term in text_tokens:\n",
    "                n_tk_ci = class_term_frequencies[cls].get(term, 0)\n",
    "                idf = math.log(len(df) / (1 + terms[term]))\n",
    "                A = class_term_frequencies[cls].get(term, 0)\n",
    "                B = min(class_term_frequencies[c].get(term, 0) for c in class_frequencies.keys())\n",
    "                #B = sum(class_term_frequencies[c].get(term, 0) for c in class_frequencies.keys() if c != cls)\n",
    "                RIR_cls = rir[cls]\n",
    "                score += math.log(1 + n_tk_ci) * idf * math.log(1 + RIR_cls ** 0.5) * math.log(1 + A / max(1, B))\n",
    "            doc_features.append(score)\n",
    "        features.append(doc_features)\n",
    "\n",
    "    return normalize(np.array(features))\n"
   ]
  },
  {
   "cell_type": "code",
   "execution_count": 20,
   "id": "82478117-3f66-42fb-bc93-9e3126bbc0fb",
   "metadata": {},
   "outputs": [],
   "source": [
    "def afe_mert_model(train_df, test_df, class_frequencies):\n",
    "    X_train = afe_mert_features(train_df, class_frequencies)\n",
    "    X_test = afe_mert_features(test_df, class_frequencies)\n",
    "    y_train = train_df['category']\n",
    "    y_test = test_df['category']\n",
    "\n",
    "    # Train classifier\n",
    "    model = LinearSVC()\n",
    "    model.fit(X_train, y_train)\n",
    "\n",
    "    # Evaluate\n",
    "    predictions = model.predict(X_test)\n",
    "    print(\"\\nModel Performance (AFE-MERT):\")\n",
    "    print(classification_report(y_test, predictions))\n",
    "    return f1_score(y_test, predictions, average='macro'), f1_score(y_test, predictions, average='micro')\n"
   ]
  },
  {
   "cell_type": "code",
   "execution_count": 22,
   "id": "d552f243-48d1-4b22-a645-06bdc5a0f620",
   "metadata": {},
   "outputs": [],
   "source": [
    "reuters_df = load_reuters()"
   ]
  },
  {
   "cell_type": "code",
   "execution_count": 24,
   "id": "ba3e0c27-6199-43cd-8313-6ea2d3f21316",
   "metadata": {},
   "outputs": [],
   "source": [
    "reuters_df['text'] = reuters_df['text'].apply(lambda x: \" \".join(preprocess_text(x)))"
   ]
  },
  {
   "cell_type": "code",
   "execution_count": 26,
   "id": "68793d91-cb17-4e27-a11f-f713f8528c5c",
   "metadata": {},
   "outputs": [],
   "source": [
    "class_frequencies = reuters_df['category'].value_counts().to_dict()\n"
   ]
  },
  {
   "cell_type": "code",
   "execution_count": 28,
   "id": "16b959a9-2ab6-4ddc-82bb-980dfb4d7b58",
   "metadata": {},
   "outputs": [],
   "source": [
    "from sklearn.utils import resample\n",
    "\n",
    "def oversample_minority_classes(df):\n",
    "    # Find classes with less than 2 instances\n",
    "    counts = df['category'].value_counts()\n",
    "    minority_classes = counts[counts < 2].index\n",
    "\n",
    "    # Oversample these classes\n",
    "    dfs = [df]\n",
    "    for cls in minority_classes:\n",
    "        class_df = df[df['category'] == cls]\n",
    "        oversampled_class = resample(class_df, replace=True, n_samples=2, random_state=42)\n",
    "        dfs.append(oversampled_class)\n",
    "\n",
    "    # Combine all dataframes\n",
    "    return pd.concat(dfs, ignore_index=True)\n",
    "\n",
    "# Apply oversampling\n",
    "reuters_df = oversample_minority_classes(reuters_df)\n",
    "\n"
   ]
  },
  {
   "cell_type": "code",
   "execution_count": 30,
   "id": "94082da1-b825-4eff-8b80-c5cef1983bd3",
   "metadata": {},
   "outputs": [],
   "source": [
    "train_df, test_df = train_test_split(reuters_df, test_size=0.3, stratify=reuters_df['category'], random_state=42)\n",
    "\n",
    "\n",
    "     "
   ]
  },
  {
   "cell_type": "code",
   "execution_count": 32,
   "id": "0da87a0f-13df-4b81-9d71-dac7b079f120",
   "metadata": {},
   "outputs": [
    {
     "name": "stdout",
     "output_type": "stream",
     "text": [
      "\n",
      "Baseline Model Performance (TF-IDF):\n",
      "                 precision    recall  f1-score   support\n",
      "\n",
      "            acq       0.93      0.99      0.96       688\n",
      "           alum       0.93      0.87      0.90        15\n",
      "            bop       1.00      0.67      0.80         9\n",
      "        carcass       1.00      1.00      1.00         3\n",
      "          cocoa       1.00      1.00      1.00        18\n",
      "        coconut       1.00      1.00      1.00         1\n",
      "         coffee       0.97      1.00      0.99        34\n",
      "         copper       0.93      1.00      0.96        13\n",
      "         cotton       1.00      0.86      0.92         7\n",
      "            cpi       0.84      1.00      0.91        21\n",
      "            cpu       0.00      0.00      0.00         1\n",
      "          crude       0.94      0.92      0.93       112\n",
      "            dlr       0.00      0.00      0.00         2\n",
      "            dmk       0.50      1.00      0.67         1\n",
      "           earn       0.99      0.98      0.99      1177\n",
      "           fuel       0.67      0.67      0.67         3\n",
      "            gas       1.00      0.80      0.89         5\n",
      "            gnp       1.00      0.91      0.95        22\n",
      "           gold       0.96      1.00      0.98        27\n",
      "          grain       0.92      0.73      0.81        15\n",
      "      groundnut       0.00      0.00      0.00         1\n",
      "           heat       1.00      0.33      0.50         3\n",
      "            hog       1.00      1.00      1.00         1\n",
      "        housing       1.00      0.80      0.89         5\n",
      "         income       1.00      1.00      1.00         3\n",
      "    instal-debt       1.00      1.00      1.00         2\n",
      "       interest       0.94      0.88      0.91        82\n",
      "            ipi       1.00      0.86      0.92        14\n",
      "     iron-steel       0.83      0.91      0.87        11\n",
      "            jet       1.00      1.00      1.00         1\n",
      "           jobs       0.93      0.93      0.93        15\n",
      "       l-cattle       1.00      1.00      1.00         1\n",
      "           lead       1.00      1.00      1.00         2\n",
      "            lei       1.00      1.00      1.00         4\n",
      "      livestock       0.86      0.86      0.86         7\n",
      "         lumber       0.50      0.25      0.33         4\n",
      "      meal-feed       0.50      0.33      0.40         3\n",
      "       money-fx       0.83      0.85      0.84        93\n",
      "   money-supply       1.00      0.89      0.94        45\n",
      "        naphtha       1.00      1.00      1.00         1\n",
      "        nat-gas       0.90      0.82      0.86        11\n",
      "         nickel       1.00      1.00      1.00         1\n",
      "          nzdlr       1.00      1.00      1.00         1\n",
      "        oilseed       0.50      0.33      0.40         3\n",
      "         orange       1.00      1.00      1.00         7\n",
      "       pet-chem       1.00      0.33      0.50         6\n",
      "       platinum       0.00      0.00      0.00         1\n",
      "         potato       1.00      1.00      1.00         1\n",
      "        propane       1.00      1.00      1.00         1\n",
      "           rand       1.00      1.00      1.00         1\n",
      "       reserves       1.00      0.93      0.97        15\n",
      "         retail       0.80      0.67      0.73         6\n",
      "           rice       1.00      1.00      1.00         1\n",
      "         rubber       1.00      0.92      0.96        12\n",
      "           ship       0.95      0.93      0.94        43\n",
      "         silver       0.00      0.00      0.00         1\n",
      "strategic-metal       1.00      0.60      0.75         5\n",
      "          sugar       0.95      0.97      0.96        37\n",
      "            tea       1.00      1.00      1.00         1\n",
      "            tin       1.00      1.00      1.00         8\n",
      "          trade       0.83      0.92      0.87        98\n",
      "        veg-oil       0.75      0.67      0.71         9\n",
      "            wpi       1.00      1.00      1.00         7\n",
      "            yen       1.00      0.50      0.67         2\n",
      "           zinc       1.00      1.00      1.00         4\n",
      "\n",
      "       accuracy                           0.95      2754\n",
      "      macro avg       0.86      0.80      0.82      2754\n",
      "   weighted avg       0.95      0.95      0.95      2754\n",
      "\n"
     ]
    },
    {
     "name": "stderr",
     "output_type": "stream",
     "text": [
      "/opt/anaconda3/lib/python3.12/site-packages/sklearn/metrics/_classification.py:1531: UndefinedMetricWarning: Precision is ill-defined and being set to 0.0 in labels with no predicted samples. Use `zero_division` parameter to control this behavior.\n",
      "  _warn_prf(average, modifier, f\"{metric.capitalize()} is\", len(result))\n",
      "/opt/anaconda3/lib/python3.12/site-packages/sklearn/metrics/_classification.py:1531: UndefinedMetricWarning: Precision is ill-defined and being set to 0.0 in labels with no predicted samples. Use `zero_division` parameter to control this behavior.\n",
      "  _warn_prf(average, modifier, f\"{metric.capitalize()} is\", len(result))\n",
      "/opt/anaconda3/lib/python3.12/site-packages/sklearn/metrics/_classification.py:1531: UndefinedMetricWarning: Precision is ill-defined and being set to 0.0 in labels with no predicted samples. Use `zero_division` parameter to control this behavior.\n",
      "  _warn_prf(average, modifier, f\"{metric.capitalize()} is\", len(result))\n"
     ]
    }
   ],
   "source": [
    "baseline_f1_macro, baseline_f1_micro = baseline_model(\n",
    "        train_df['text'], test_df['text'], train_df['category'], test_df['category']\n",
    "    )"
   ]
  },
  {
   "cell_type": "code",
   "execution_count": 34,
   "id": "df1806e8-f284-444e-bffb-9da0540531e7",
   "metadata": {},
   "outputs": [
    {
     "name": "stdout",
     "output_type": "stream",
     "text": [
      "\n",
      "Model Performance (AFE-MERT):\n",
      "                 precision    recall  f1-score   support\n",
      "\n",
      "            acq       0.96      0.99      0.97       688\n",
      "           alum       1.00      0.87      0.93        15\n",
      "            bop       1.00      0.78      0.88         9\n",
      "        carcass       1.00      1.00      1.00         3\n",
      "          cocoa       1.00      1.00      1.00        18\n",
      "        coconut       1.00      1.00      1.00         1\n",
      "         coffee       1.00      0.97      0.99        34\n",
      "         copper       1.00      1.00      1.00        13\n",
      "         cotton       1.00      1.00      1.00         7\n",
      "            cpi       0.78      1.00      0.88        21\n",
      "            cpu       0.00      0.00      0.00         1\n",
      "          crude       0.96      0.96      0.96       112\n",
      "            dlr       0.00      0.00      0.00         2\n",
      "            dmk       0.00      0.00      0.00         1\n",
      "           earn       0.97      0.99      0.98      1177\n",
      "           fuel       0.67      0.67      0.67         3\n",
      "            gas       1.00      0.80      0.89         5\n",
      "            gnp       0.96      1.00      0.98        22\n",
      "           gold       1.00      0.96      0.98        27\n",
      "          grain       1.00      0.80      0.89        15\n",
      "      groundnut       0.00      0.00      0.00         1\n",
      "           heat       1.00      0.33      0.50         3\n",
      "            hog       1.00      1.00      1.00         1\n",
      "        housing       1.00      0.60      0.75         5\n",
      "         income       0.00      0.00      0.00         3\n",
      "    instal-debt       0.00      0.00      0.00         2\n",
      "       interest       0.94      0.94      0.94        82\n",
      "            ipi       1.00      0.79      0.88        14\n",
      "     iron-steel       0.92      1.00      0.96        11\n",
      "            jet       0.00      0.00      0.00         1\n",
      "           jobs       1.00      0.93      0.97        15\n",
      "       l-cattle       1.00      1.00      1.00         1\n",
      "           lead       1.00      1.00      1.00         2\n",
      "            lei       1.00      1.00      1.00         4\n",
      "      livestock       1.00      1.00      1.00         7\n",
      "         lumber       1.00      0.75      0.86         4\n",
      "      meal-feed       1.00      0.33      0.50         3\n",
      "       money-fx       0.94      0.88      0.91        93\n",
      "   money-supply       0.95      0.87      0.91        45\n",
      "        naphtha       0.00      0.00      0.00         1\n",
      "        nat-gas       1.00      0.82      0.90        11\n",
      "         nickel       0.00      0.00      0.00         1\n",
      "          nzdlr       0.00      0.00      0.00         1\n",
      "        oilseed       1.00      0.33      0.50         3\n",
      "         orange       1.00      1.00      1.00         7\n",
      "       pet-chem       1.00      1.00      1.00         6\n",
      "       platinum       1.00      1.00      1.00         1\n",
      "         potato       1.00      1.00      1.00         1\n",
      "        propane       1.00      1.00      1.00         1\n",
      "           rand       0.00      0.00      0.00         1\n",
      "       reserves       0.94      1.00      0.97        15\n",
      "         retail       0.00      0.00      0.00         6\n",
      "           rice       0.00      0.00      0.00         1\n",
      "         rubber       1.00      1.00      1.00        12\n",
      "           ship       1.00      0.93      0.96        43\n",
      "         silver       0.00      0.00      0.00         1\n",
      "strategic-metal       1.00      1.00      1.00         5\n",
      "          sugar       0.95      1.00      0.97        37\n",
      "            tea       1.00      1.00      1.00         1\n",
      "            tin       1.00      1.00      1.00         8\n",
      "          trade       0.90      0.97      0.93        98\n",
      "        veg-oil       1.00      0.89      0.94         9\n",
      "            wpi       1.00      0.29      0.44         7\n",
      "            yen       0.00      0.00      0.00         2\n",
      "           zinc       1.00      0.75      0.86         4\n",
      "\n",
      "       accuracy                           0.96      2754\n",
      "      macro avg       0.75      0.68      0.70      2754\n",
      "   weighted avg       0.95      0.96      0.95      2754\n",
      "\n"
     ]
    },
    {
     "name": "stderr",
     "output_type": "stream",
     "text": [
      "/opt/anaconda3/lib/python3.12/site-packages/sklearn/metrics/_classification.py:1531: UndefinedMetricWarning: Precision is ill-defined and being set to 0.0 in labels with no predicted samples. Use `zero_division` parameter to control this behavior.\n",
      "  _warn_prf(average, modifier, f\"{metric.capitalize()} is\", len(result))\n",
      "/opt/anaconda3/lib/python3.12/site-packages/sklearn/metrics/_classification.py:1531: UndefinedMetricWarning: Precision is ill-defined and being set to 0.0 in labels with no predicted samples. Use `zero_division` parameter to control this behavior.\n",
      "  _warn_prf(average, modifier, f\"{metric.capitalize()} is\", len(result))\n",
      "/opt/anaconda3/lib/python3.12/site-packages/sklearn/metrics/_classification.py:1531: UndefinedMetricWarning: Precision is ill-defined and being set to 0.0 in labels with no predicted samples. Use `zero_division` parameter to control this behavior.\n",
      "  _warn_prf(average, modifier, f\"{metric.capitalize()} is\", len(result))\n"
     ]
    }
   ],
   "source": [
    "afe_f1_macro, afe_f1_micro = afe_mert_model(train_df, test_df, class_frequencies)"
   ]
  },
  {
   "cell_type": "code",
   "execution_count": 38,
   "id": "9e044164-c9c1-4670-8049-8f4ddce63587",
   "metadata": {},
   "outputs": [
    {
     "name": "stdout",
     "output_type": "stream",
     "text": [
      "\n",
      "Comparison of Results:\n",
      "Baseline F1-Macro: 0.8157, F1-Micro: 0.9521\n",
      "AFE-MERT F1-Macro: 0.7018, F1-Micro: 0.9597\n"
     ]
    }
   ],
   "source": [
    "print(\"\\nComparison of Results:\")\n",
    "print(f\"Baseline F1-Macro: {baseline_f1_macro:.4f}, F1-Micro: {baseline_f1_micro:.4f}\")\n",
    "print(f\"AFE-MERT F1-Macro: {afe_f1_macro:.4f}, F1-Micro: {afe_f1_micro:.4f}\")"
   ]
  },
  {
   "cell_type": "code",
   "execution_count": null,
   "id": "19a2cf7c-635c-4112-b4d1-5da1d547a852",
   "metadata": {},
   "outputs": [],
   "source": []
  }
 ],
 "metadata": {
  "kernelspec": {
   "display_name": "Python [conda env:base] *",
   "language": "python",
   "name": "conda-base-py"
  },
  "language_info": {
   "codemirror_mode": {
    "name": "ipython",
    "version": 3
   },
   "file_extension": ".py",
   "mimetype": "text/x-python",
   "name": "python",
   "nbconvert_exporter": "python",
   "pygments_lexer": "ipython3",
   "version": "3.12.7"
  }
 },
 "nbformat": 4,
 "nbformat_minor": 5
}
