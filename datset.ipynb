{
 "cells": [
  {
   "cell_type": "code",
   "execution_count": 1,
   "metadata": {},
   "outputs": [
    {
     "name": "stderr",
     "output_type": "stream",
     "text": [
      "[nltk_data] Downloading package reuters to\n",
      "[nltk_data]     /Users/deepanshurao0001/nltk_data...\n",
      "[nltk_data] Downloading package punkt to\n",
      "[nltk_data]     /Users/deepanshurao0001/nltk_data...\n",
      "[nltk_data]   Unzipping tokenizers/punkt.zip.\n"
     ]
    },
    {
     "name": "stdout",
     "output_type": "stream",
     "text": [
      "File ID: test/14826\n",
      "Categories: ['trade']\n",
      "Text: ASIAN EXPORTERS FEAR DAMAGE FROM U.S.-JAPAN RIFT\n",
      "  Mounting trade friction between the\n",
      "  U.S. And Japan has raised fears among many of Asia's exporting\n",
      "  nations that the row could inflict far-reaching economic\n",
      "  damage, businessmen and officials said.\n",
      "      They told Reuter correspondents in Asian capitals a U.S.\n",
      "  Move against Japan might boost protectionist sentiment in the\n",
      "  U.S. And lead to curbs on American imports of their products.\n",
      "      But some exporters said that while the conflict wo...\n",
      "--------------------------------------------------\n",
      "File ID: test/14828\n",
      "Categories: ['grain']\n",
      "Text: CHINA DAILY SAYS VERMIN EAT 7-12 PCT GRAIN STOCKS\n",
      "  A survey of 19 provinces and seven cities\n",
      "  showed vermin consume between seven and 12 pct of China's grain\n",
      "  stocks, the China Daily said.\n",
      "      It also said that each year 1.575 mln tonnes, or 25 pct, of\n",
      "  China's fruit output are left to rot, and 2.1 mln tonnes, or up\n",
      "  to 30 pct, of its vegetables. The paper blamed the waste on\n",
      "  inadequate storage and bad preservation methods.\n",
      "      It said the government had launched a national programme ...\n",
      "--------------------------------------------------\n",
      "File ID: test/14829\n",
      "Categories: ['crude', 'nat-gas']\n",
      "Text: JAPAN TO REVISE LONG-TERM ENERGY DEMAND DOWNWARDS\n",
      "  The Ministry of International Trade and\n",
      "  Industry (MITI) will revise its long-term energy supply/demand\n",
      "  outlook by August to meet a forecast downtrend in Japanese\n",
      "  energy demand, ministry officials said.\n",
      "      MITI is expected to lower the projection for primary energy\n",
      "  supplies in the year 2000 to 550 mln kilolitres (kl) from 600\n",
      "  mln, they said.\n",
      "      The decision follows the emergence of structural changes in\n",
      "  Japanese industry follow...\n",
      "--------------------------------------------------\n",
      "File ID: test/14832\n",
      "Categories: ['corn', 'grain', 'rice', 'rubber', 'sugar', 'tin', 'trade']\n",
      "Text: THAI TRADE DEFICIT WIDENS IN FIRST QUARTER\n",
      "  Thailand's trade deficit widened to 4.5\n",
      "  billion baht in the first quarter of 1987 from 2.1 billion a\n",
      "  year ago, the Business Economics Department said.\n",
      "      It said Janunary/March imports rose to 65.1 billion baht\n",
      "  from 58.7 billion. Thailand's improved business climate this\n",
      "  year resulted in a 27 pct increase in imports of raw materials\n",
      "  and semi-finished products.\n",
      "      The country's oil import bill, however, fell 23 pct in the\n",
      "  first quarte...\n",
      "--------------------------------------------------\n",
      "File ID: test/14833\n",
      "Categories: ['palm-oil', 'veg-oil']\n",
      "Text: INDONESIA SEES CPO PRICE RISING SHARPLY\n",
      "  Indonesia expects crude palm oil (CPO)\n",
      "  prices to rise sharply to between 450 and 550 dlrs a tonne FOB\n",
      "  sometime this year because of better European demand and a fall\n",
      "  in Malaysian output, Hasrul Harahap, junior minister for tree\n",
      "  crops, told Indonesian reporters.\n",
      "      Prices of Malaysian and Sumatran CPO are now around 332\n",
      "  dlrs a tonne CIF for delivery in Rotterdam, traders said.\n",
      "      Harahap said Indonesia would maintain its exports, despite\n",
      " ...\n",
      "--------------------------------------------------\n"
     ]
    }
   ],
   "source": [
    "import nltk\n",
    "from nltk.corpus import reuters\n",
    "\n",
    "# Ensure that the Reuters dataset is downloaded\n",
    "nltk.download('reuters')\n",
    "nltk.download('punkt')\n",
    "\n",
    "# Get the fileids (document identifiers)\n",
    "file_ids = reuters.fileids()\n",
    "\n",
    "# Display the first few documents and their categories\n",
    "for file_id in file_ids[:5]:\n",
    "    print(f\"File ID: {file_id}\")\n",
    "    print(f\"Categories: {reuters.categories(file_id)}\")\n",
    "    print(f\"Text: {reuters.raw(file_id)[:500]}...\")  # Show first 500 characters of the document\n",
    "    print(\"-\" * 50)\n"
   ]
  },
  {
   "cell_type": "code",
   "execution_count": 3,
   "metadata": {},
   "outputs": [
    {
     "name": "stderr",
     "output_type": "stream",
     "text": [
      "[nltk_data] Downloading package reuters to\n",
      "[nltk_data]     /Users/deepanshurao0001/nltk_data...\n",
      "[nltk_data]   Package reuters is already up-to-date!\n",
      "[nltk_data] Downloading package punkt to\n",
      "[nltk_data]     /Users/deepanshurao0001/nltk_data...\n",
      "[nltk_data]   Package punkt is already up-to-date!\n"
     ]
    },
    {
     "name": "stdout",
     "output_type": "stream",
     "text": [
      "      file_id                                      categories  \\\n",
      "0  test/14826                                         [trade]   \n",
      "1  test/14828                                         [grain]   \n",
      "2  test/14829                                [crude, nat-gas]   \n",
      "3  test/14832  [corn, grain, rice, rubber, sugar, tin, trade]   \n",
      "4  test/14833                             [palm-oil, veg-oil]   \n",
      "\n",
      "                                                text  \n",
      "0  ASIAN EXPORTERS FEAR DAMAGE FROM U.S.-JAPAN RI...  \n",
      "1  CHINA DAILY SAYS VERMIN EAT 7-12 PCT GRAIN STO...  \n",
      "2  JAPAN TO REVISE LONG-TERM ENERGY DEMAND DOWNWA...  \n",
      "3  THAI TRADE DEFICIT WIDENS IN FIRST QUARTER\\n  ...  \n",
      "4  INDONESIA SEES CPO PRICE RISING SHARPLY\\n  Ind...  \n"
     ]
    }
   ],
   "source": [
    "import nltk\n",
    "import pandas as pd\n",
    "from nltk.corpus import reuters\n",
    "\n",
    "# Ensure required NLTK datasets are downloaded\n",
    "nltk.download('reuters')\n",
    "nltk.download('punkt')\n",
    "\n",
    "# Retrieve the file IDs (document IDs)\n",
    "file_ids = reuters.fileids()\n",
    "\n",
    "# Prepare an empty list to store the data\n",
    "data = []\n",
    "\n",
    "# Loop through file_ids and extract categories and raw text\n",
    "for file_id in file_ids:\n",
    "    categories = reuters.categories(file_id)\n",
    "    raw_text = reuters.raw(file_id)\n",
    "    # Add a row with file_id, categories and raw text\n",
    "    data.append({\n",
    "        'file_id': file_id,\n",
    "        'categories': categories,\n",
    "        'text': raw_text\n",
    "    })\n",
    "\n",
    "# Convert the list to a pandas DataFrame\n",
    "reuters_df = pd.DataFrame(data)\n",
    "\n",
    "# Display the first few rows of the DataFrame\n",
    "print(reuters_df.head())\n"
   ]
  },
  {
   "cell_type": "code",
   "execution_count": 7,
   "metadata": {},
   "outputs": [
    {
     "name": "stdout",
     "output_type": "stream",
     "text": [
      "Dataset Sample:\n",
      "                                                    Text  \\\n",
      "6591   \\nYou're assuming that their normal rotation c...   \n",
      "8338   For sale by owners who were also the builders\\...   \n",
      "15866  I would be interested in hearing from anyone w...   \n",
      "13279  \\nI'm not 100% sure, but I think the T800 was ...   \n",
      "14376  I have recently plunged into PC World. I have ...   \n",
      "\n",
      "                       Category  \n",
      "6591                  sci.space  \n",
      "8338               misc.forsale  \n",
      "15866           sci.electronics  \n",
      "13279   comp.os.ms-windows.misc  \n",
      "14376  comp.sys.ibm.pc.hardware  \n",
      "\n",
      "Available Categories:\n",
      "['alt.atheism', 'comp.graphics', 'comp.os.ms-windows.misc', 'comp.sys.ibm.pc.hardware', 'comp.sys.mac.hardware', 'comp.windows.x', 'misc.forsale', 'rec.autos', 'rec.motorcycles', 'rec.sport.baseball', 'rec.sport.hockey', 'sci.crypt', 'sci.electronics', 'sci.med', 'sci.space', 'soc.religion.christian', 'talk.politics.guns', 'talk.politics.mideast', 'talk.politics.misc', 'talk.religion.misc']\n"
     ]
    }
   ],
   "source": [
    "from sklearn.datasets import fetch_20newsgroups\n",
    "import pandas as pd\n",
    "\n",
    "# Load the dataset\n",
    "newsgroups = fetch_20newsgroups(subset='all', remove=('headers', 'footers', 'quotes'))\n",
    "\n",
    "# Convert to a DataFrame for easier viewing\n",
    "newsgroups_df = pd.DataFrame({\n",
    "    'Text': newsgroups.data,\n",
    "    'Category': [newsgroups.target_names[label] for label in newsgroups.target]\n",
    "})\n",
    "\n",
    "# Display a sample of the data\n",
    "print(\"Dataset Sample:\")\n",
    "print(newsgroups_df.sample(5))\n",
    "\n",
    "# Display unique categories\n",
    "print(\"\\nAvailable Categories:\")\n",
    "print(newsgroups.target_names)\n"
   ]
  }
 ],
 "metadata": {
  "kernelspec": {
   "display_name": "Python [conda env:base] *",
   "language": "python",
   "name": "conda-base-py"
  },
  "language_info": {
   "codemirror_mode": {
    "name": "ipython",
    "version": 3
   },
   "file_extension": ".py",
   "mimetype": "text/x-python",
   "name": "python",
   "nbconvert_exporter": "python",
   "pygments_lexer": "ipython3",
   "version": "3.12.7"
  }
 },
 "nbformat": 4,
 "nbformat_minor": 4
}
