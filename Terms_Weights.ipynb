{
 "cells": [
  {
   "cell_type": "code",
   "execution_count": 5,
   "id": "1c30d580-6ec1-4a13-ab58-5285b506d000",
   "metadata": {},
   "outputs": [],
   "source": [
    "import numpy as np\n",
    "import pandas as pd\n",
    "from nltk.corpus import reuters, stopwords\n",
    "from nltk.stem import PorterStemmer\n",
    "from sklearn.model_selection import train_test_split\n",
    "from sklearn.preprocessing import normalize\n",
    "import math\n",
    "from collections import Counter"
   ]
  },
  {
   "cell_type": "code",
   "execution_count": 7,
   "id": "adf989de-0e8f-437e-921d-794b674f9f9a",
   "metadata": {},
   "outputs": [
    {
     "name": "stderr",
     "output_type": "stream",
     "text": [
      "[nltk_data] Downloading package reuters to\n",
      "[nltk_data]     /Users/deepanshurao0001/nltk_data...\n",
      "[nltk_data]   Package reuters is already up-to-date!\n",
      "[nltk_data] Downloading package stopwords to\n",
      "[nltk_data]     /Users/deepanshurao0001/nltk_data...\n",
      "[nltk_data]   Unzipping corpora/stopwords.zip.\n"
     ]
    },
    {
     "data": {
      "text/plain": [
       "True"
      ]
     },
     "execution_count": 7,
     "metadata": {},
     "output_type": "execute_result"
    }
   ],
   "source": [
    "\n",
    "import nltk\n",
    "nltk.download('reuters')\n",
    "nltk.download('stopwords')"
   ]
  },
  {
   "cell_type": "code",
   "execution_count": 9,
   "id": "40e05005-4e97-47cf-a726-c220118fa7b1",
   "metadata": {},
   "outputs": [],
   "source": [
    "\n",
    "stemmer = PorterStemmer()\n",
    "stop_words = set(stopwords.words('english'))"
   ]
  },
  {
   "cell_type": "code",
   "execution_count": 11,
   "id": "b99dd921-9139-43ba-8b9f-02e2c940d423",
   "metadata": {},
   "outputs": [],
   "source": [
    "def load_reuters():\n",
    "    documents = [(reuters.raw(fileid), reuters.categories(fileid)[0])\n",
    "                 for fileid in reuters.fileids()]\n",
    "    df = pd.DataFrame(documents, columns=['text', 'category'])\n",
    "    return df\n"
   ]
  },
  {
   "cell_type": "code",
   "execution_count": 13,
   "id": "25533b75-990d-4829-a145-557a3368b489",
   "metadata": {},
   "outputs": [],
   "source": [
    "def preprocess_text(text):\n",
    "    tokens = nltk.word_tokenize(text.lower())\n",
    "    tokens = [stemmer.stem(word) for word in tokens if word.isalpha() and word not in stop_words]\n",
    "    return tokens\n"
   ]
  },
  {
   "cell_type": "code",
   "execution_count": 15,
   "id": "aeecf2ce-f5a8-4629-84fe-33c3d8bad808",
   "metadata": {},
   "outputs": [],
   "source": [
    "def calculate_class_frequencies(df):\n",
    "    class_freq = df['category'].value_counts()\n",
    "    return class_freq.to_dict()\n",
    "\n"
   ]
  },
  {
   "cell_type": "code",
   "execution_count": 17,
   "id": "5ddfcd11-42a9-4282-ace8-3b0eca525889",
   "metadata": {},
   "outputs": [],
   "source": [
    "def afe_mert(df, class_frequencies):\n",
    "    terms = Counter()\n",
    "    class_term_frequencies = {}\n",
    "\n",
    "    # Calculate term frequencies per class\n",
    "    for _, row in df.iterrows():\n",
    "        class_label = row['category']\n",
    "        \n",
    "        # Ensure text preprocessing happens here\n",
    "        text_tokens = preprocess_text(\" \".join(row['text']) if isinstance(row['text'], list) else row['text'])\n",
    "        \n",
    "        terms.update(text_tokens)\n",
    "        if class_label not in class_term_frequencies:\n",
    "            class_term_frequencies[class_label] = Counter()\n",
    "        class_term_frequencies[class_label].update(text_tokens)\n",
    "\n",
    "    # Calculate RIR (Relative Imbalance Ratio)\n",
    "    max_class_size = max(class_frequencies.values())\n",
    "    rir = {cls: max_class_size / freq for cls, freq in class_frequencies.items()}\n",
    "\n",
    "    # Calculate weights for terms\n",
    "    term_weights = {}\n",
    "    for term in terms:\n",
    "        for cls in class_frequencies.keys():\n",
    "            n_tk_ci = class_term_frequencies[cls].get(term, 0)\n",
    "            idf = math.log(len(df) / (1 + terms[term]))  # Smooth IDF\n",
    "            A = class_term_frequencies[cls].get(term, 0)\n",
    "            B = sum(class_term_frequencies[c].get(term, 0) for c in class_frequencies.keys() if c != cls)\n",
    "            RIR_cls = rir[cls]\n",
    "\n",
    "            # Weight formula as in AFE-MERT\n",
    "            weight = (\n",
    "                math.log(1 + n_tk_ci) * idf *\n",
    "                math.log(1 + RIR_cls ** (1 / 2)) *  # p = 2\n",
    "                math.log(1 + A / max(1, B))\n",
    "            )\n",
    "            term_weights[(term, cls)] = weight\n",
    "\n",
    "    return term_weights\n"
   ]
  },
  {
   "cell_type": "code",
   "execution_count": 19,
   "id": "eeac4e4f-de29-470b-9ede-0440d1b4691b",
   "metadata": {},
   "outputs": [],
   "source": [
    "reuters_df = load_reuters()"
   ]
  },
  {
   "cell_type": "code",
   "execution_count": 49,
   "id": "1625b1a0-eb4b-4b7b-8009-da899355b202",
   "metadata": {},
   "outputs": [
    {
     "name": "stderr",
     "output_type": "stream",
     "text": [
      "[nltk_data] Downloading package punkt_tab to\n",
      "[nltk_data]     /Users/deepanshurao0001/nltk_data...\n",
      "[nltk_data]   Unzipping tokenizers/punkt_tab.zip.\n"
     ]
    },
    {
     "data": {
      "text/plain": [
       "True"
      ]
     },
     "execution_count": 49,
     "metadata": {},
     "output_type": "execute_result"
    }
   ],
   "source": [
    "import nltk\n",
    "nltk.download('punkt_tab')"
   ]
  },
  {
   "cell_type": "code",
   "execution_count": 51,
   "id": "6c3e8e86-75fe-4ab8-bde2-e51de7d6a35b",
   "metadata": {},
   "outputs": [],
   "source": [
    "def preprocess_text(text):\n",
    "    tokens = nltk.word_tokenize(text.lower())  # This will now work\n",
    "    tokens = [stemmer.stem(word) for word in tokens if word.isalpha() and word not in stop_words]\n",
    "    return tokens"
   ]
  },
  {
   "cell_type": "code",
   "execution_count": 53,
   "id": "5604fed3-ce9d-435e-9904-7c1ff7c1a5ba",
   "metadata": {},
   "outputs": [],
   "source": [
    "reuters_df['text'] = reuters_df['text'].apply(preprocess_text)"
   ]
  },
  {
   "cell_type": "code",
   "execution_count": 54,
   "id": "da72628d-cb19-40bd-ae33-34d4b7c9cd65",
   "metadata": {},
   "outputs": [],
   "source": [
    "class_freq = calculate_class_frequencies(reuters_df)"
   ]
  },
  {
   "cell_type": "code",
   "execution_count": 55,
   "id": "c1b8814d-b5fb-46d3-9456-ef23834f3706",
   "metadata": {},
   "outputs": [],
   "source": [
    "term_weights = afe_mert(reuters_df, class_freq)"
   ]
  },
  {
   "cell_type": "code",
   "execution_count": 56,
   "id": "a0390eba-78b7-4c7e-8fbe-736e25e7acb3",
   "metadata": {},
   "outputs": [
    {
     "name": "stdout",
     "output_type": "stream",
     "text": [
      "Sample Term Weights:  [(('asian', 'earn'), 0.03941571943799372), (('asian', 'acq'), 2.299301234071236), (('asian', 'crude'), 1.2974743115017033), (('asian', 'interest'), 0.24935569125416712), (('asian', 'money-fx'), 2.651679760693727), (('asian', 'trade'), 6.358267367335734), (('asian', 'grain'), 0.27920888184244064), (('asian', 'corn'), 0.0), (('asian', 'dlr'), 0.0), (('asian', 'money-supply'), 0.0), (('asian', 'ship'), 0.0), (('asian', 'coffee'), 0.0), (('asian', 'sugar'), 0.0), (('asian', 'gold'), 0.0), (('asian', 'bop'), 0.0), (('asian', 'gnp'), 0.0), (('asian', 'cpi'), 0.0), (('asian', 'cocoa'), 0.7374181531698444), (('asian', 'carcass'), 0.39338925408290176), (('asian', 'oilseed'), 0.0), (('asian', 'copper'), 0.0), (('asian', 'alum'), 0.0), (('asian', 'reserves'), 0.0), (('asian', 'jobs'), 0.0), (('asian', 'barley'), 0.0), (('asian', 'ipi'), 0.0), (('asian', 'iron-steel'), 0.0), (('asian', 'cotton'), 0.0), (('asian', 'rubber'), 0.43421075490700134), (('asian', 'nat-gas'), 0.0), (('asian', 'veg-oil'), 0.45810399196429163), (('asian', 'tin'), 1.3908737533798332), (('asian', 'meal-feed'), 0.0), (('asian', 'palm-oil'), 0.0), (('asian', 'livestock'), 0.0), (('asian', 'wpi'), 0.0), (('asian', 'orange'), 0.0), (('asian', 'gas'), 0.0), (('asian', 'pet-chem'), 0.0), (('asian', 'retail'), 0.0), (('asian', 'housing'), 0.0), (('asian', 'lead'), 0.0), (('asian', 'hog'), 0.0), (('asian', 'fuel'), 0.0), (('asian', 'strategic-metal'), 0.0), (('asian', 'lumber'), 0.16170317955478938), (('asian', 'lei'), 0.0), (('asian', 'zinc'), 0.0), (('asian', 'income'), 0.0), (('asian', 'heat'), 0.0), (('asian', 'soy-oil'), 0.0), (('asian', 'coconut-oil'), 0.18652566683185637), (('asian', 'coconut'), 0.0), (('asian', 'yen'), 0.0), (('asian', 'instal-debt'), 0.0), (('asian', 'groundnut'), 0.0), (('asian', 'tea'), 0.0), (('asian', 'potato'), 0.0), (('asian', 'l-cattle'), 0.0), (('asian', 'nickel'), 0.0), (('asian', 'cpu'), 0.0), (('asian', 'silver'), 0.0), (('asian', 'platinum'), 0.0), (('asian', 'jet'), 0.0), (('asian', 'rape-oil'), 0.0), (('asian', 'dmk'), 0.0), (('asian', 'soybean'), 0.0), (('asian', 'propane'), 0.0), (('asian', 'castor-oil'), 0.0), (('asian', 'dfl'), 0.0), (('asian', 'naphtha'), 0.0), (('asian', 'palladium'), 0.0), (('asian', 'nzdlr'), 0.0), (('asian', 'rice'), 0.0), (('asian', 'copra-cake'), 0.0), (('asian', 'groundnut-oil'), 0.0), (('asian', 'cotton-oil'), 0.0), (('asian', 'sun-oil'), 0.0), (('asian', 'rand'), 0.0), (('export', 'earn'), 0.03812285695642844), (('export', 'acq'), 0.020758011415604103), (('export', 'crude'), 0.6930893297202164), (('export', 'interest'), 0.019129488797261902), (('export', 'money-fx'), 0.1811270404953092), (('export', 'trade'), 1.8865256523767049), (('export', 'grain'), 1.2573812691612134), (('export', 'corn'), 1.1739198796374923), (('export', 'dlr'), 0.13415580687157225), (('export', 'money-supply'), 0.0020136985540457637), (('export', 'ship'), 0.0714138090362222), (('export', 'coffee'), 2.113930943204337), (('export', 'sugar'), 0.5328995214868043), (('export', 'gold'), 0.011578043762714707), (('export', 'bop'), 0.6794174440613133), (('export', 'gnp'), 0.3483151922557225), (('export', 'cpi'), 0.08429980374182064), (('export', 'cocoa'), 0.2812409449504566), (('export', 'carcass'), 0.26910726340141705), (('export', 'oilseed'), 0.18844813417852213), (('export', 'copper'), 0.06865643767903407)]\n"
     ]
    }
   ],
   "source": [
    "print(\"Sample Term Weights:\", f' {list(term_weights.items())[:100]}')\n"
   ]
  },
  {
   "cell_type": "code",
   "execution_count": 57,
   "id": "3463dfd2-7765-4fc1-8674-efb26104c6db",
   "metadata": {},
   "outputs": [
    {
     "name": "stdout",
     "output_type": "stream",
     "text": [
      "                 Term    Weight\n",
      "0       (asian, earn)  0.039416\n",
      "1        (asian, acq)  2.299301\n",
      "2      (asian, crude)  1.297474\n",
      "3   (asian, interest)  0.249356\n",
      "4   (asian, money-fx)  2.651680\n",
      "..                ...       ...\n",
      "95      (export, cpi)  0.084300\n",
      "96    (export, cocoa)  0.281241\n",
      "97  (export, carcass)  0.269107\n",
      "98  (export, oilseed)  0.188448\n",
      "99   (export, copper)  0.068656\n",
      "\n",
      "[100 rows x 2 columns]\n"
     ]
    }
   ],
   "source": [
    "import pandas as pd\n",
    "\n",
    "df = pd.DataFrame(list(term_weights.items())[:100], columns=[\"Term\", \"Weight\"])\n",
    "print(df)\n"
   ]
  }
 ],
 "metadata": {
  "kernelspec": {
   "display_name": "Python [conda env:base] *",
   "language": "python",
   "name": "conda-base-py"
  },
  "language_info": {
   "codemirror_mode": {
    "name": "ipython",
    "version": 3
   },
   "file_extension": ".py",
   "mimetype": "text/x-python",
   "name": "python",
   "nbconvert_exporter": "python",
   "pygments_lexer": "ipython3",
   "version": "3.12.7"
  }
 },
 "nbformat": 4,
 "nbformat_minor": 5
}
