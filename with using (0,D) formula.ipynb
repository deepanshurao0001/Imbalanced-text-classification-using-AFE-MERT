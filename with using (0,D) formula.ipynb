{
 "cells": [
  {
   "cell_type": "code",
   "execution_count": 1,
   "id": "41b0c2e0-2df7-4a0e-bb70-b6ae92e11877",
   "metadata": {},
   "outputs": [],
   "source": [
    "import nltk\n",
    "from nltk.corpus import reuters, stopwords\n",
    "from nltk.stem import PorterStemmer\n",
    "from sklearn.feature_extraction.text import TfidfVectorizer\n",
    "from sklearn.svm import LinearSVC\n",
    "from sklearn.metrics import f1_score, classification_report\n",
    "from sklearn.preprocessing import normalize\n",
    "from sklearn.model_selection import train_test_split\n",
    "import numpy as np\n",
    "import math\n",
    "from collections import Counter\n",
    "import pandas as pd"
   ]
  },
  {
   "cell_type": "code",
   "execution_count": 3,
   "id": "2ce16d43-9c23-4ef9-a3ea-fe374533e799",
   "metadata": {},
   "outputs": [
    {
     "name": "stderr",
     "output_type": "stream",
     "text": [
      "[nltk_data] Downloading package reuters to\n",
      "[nltk_data]     /Users/deepanshurao0001/nltk_data...\n",
      "[nltk_data]   Package reuters is already up-to-date!\n",
      "[nltk_data] Downloading package stopwords to\n",
      "[nltk_data]     /Users/deepanshurao0001/nltk_data...\n",
      "[nltk_data]   Package stopwords is already up-to-date!\n"
     ]
    },
    {
     "data": {
      "text/plain": [
       "True"
      ]
     },
     "execution_count": 3,
     "metadata": {},
     "output_type": "execute_result"
    }
   ],
   "source": [
    "nltk.download('reuters')\n",
    "nltk.download('stopwords')"
   ]
  },
  {
   "cell_type": "code",
   "execution_count": 5,
   "id": "ab9125b0-4e1c-4908-909a-ea190c03ad89",
   "metadata": {},
   "outputs": [],
   "source": [
    "stop_words = set(stopwords.words('english'))\n",
    "stemmer = PorterStemmer()"
   ]
  },
  {
   "cell_type": "code",
   "execution_count": 7,
   "id": "3573551d-081e-4b97-8a61-1ac81a9ae533",
   "metadata": {},
   "outputs": [],
   "source": [
    "def load_reuters():\n",
    "    documents = [(reuters.raw(fileid), reuters.categories(fileid)[0])\n",
    "                 for fileid in reuters.fileids() if len(reuters.categories(fileid)) == 1]\n",
    "    df = pd.DataFrame(documents, columns=['text', 'category'])\n",
    "    return df"
   ]
  },
  {
   "cell_type": "code",
   "execution_count": 9,
   "id": "5d702509-3077-4f24-aa60-673ab0f2c97b",
   "metadata": {},
   "outputs": [],
   "source": [
    "def preprocess_text(text):\n",
    "    tokens = nltk.word_tokenize(text.lower())\n",
    "    tokens = [stemmer.stem(word) for word in tokens if word.isalpha() and word not in stop_words]\n",
    "    return tokens"
   ]
  },
  {
   "cell_type": "code",
   "execution_count": 11,
   "id": "670f02e8-425b-4dc6-b845-0288712d972f",
   "metadata": {},
   "outputs": [],
   "source": [
    "def baseline_model(train_texts, test_texts, train_labels, test_labels):\n",
    "    vectorizer = TfidfVectorizer()\n",
    "    X_train = vectorizer.fit_transform(train_texts)\n",
    "    X_test = vectorizer.transform(test_texts)\n",
    "\n",
    "    # Train classifier\n",
    "    model = LinearSVC()\n",
    "    model.fit(X_train, train_labels)\n",
    "\n",
    "    # Evaluate\n",
    "    predictions = model.predict(X_test)\n",
    "    print(\"\\nBaseline Model Performance (TF-IDF):\")\n",
    "    print(classification_report(test_labels, predictions))\n",
    "    return f1_score(test_labels, predictions, average='macro'), f1_score(test_labels, predictions, average='micro')"
   ]
  },
  {
   "cell_type": "code",
   "execution_count": 29,
   "id": "6e9dc4eb-bd5e-4b99-a221-1be3803e7482",
   "metadata": {},
   "outputs": [],
   "source": [
    "def afe_mert_features(df, class_frequencies):\n",
    "    from collections import Counter\n",
    "    import math\n",
    "    import numpy as np\n",
    "    from sklearn.preprocessing import normalize\n",
    "\n",
    "    terms = Counter()\n",
    "    class_term_frequencies = {}\n",
    "\n",
    "    for _, row in df.iterrows():\n",
    "        class_label = row['category']\n",
    "        text_tokens = preprocess_text(row['text'])\n",
    "        terms.update(text_tokens)\n",
    "        if class_label not in class_term_frequencies:\n",
    "            class_term_frequencies[class_label] = Counter()\n",
    "        class_term_frequencies[class_label].update(text_tokens)\n",
    "\n",
    "    # RIR calculation\n",
    "    max_class_size = max(class_frequencies.values())\n",
    "    rir = {cls: max_class_size / freq for cls, freq in class_frequencies.items()}\n",
    "\n",
    "    features = []\n",
    "    sorted_classes = sorted(class_frequencies.keys())\n",
    "\n",
    "    for _, row in df.iterrows():\n",
    "        text_tokens = preprocess_text(row['text'])\n",
    "        doc_features = []\n",
    "\n",
    "        for cls in sorted_classes:\n",
    "            score = 0\n",
    "            RIR_cls = rir[cls]\n",
    "\n",
    "            for term in text_tokens:\n",
    "                n_tk_ci = class_term_frequencies[cls].get(term, 0)\n",
    "                idf = math.log(len(df) / (1 + terms[term]))\n",
    "                A = class_term_frequencies[cls].get(term, 0)\n",
    "                B = min(class_term_frequencies[c].get(term, 0) for c in class_frequencies.keys())\n",
    "                #B = sum(class_term_frequencies[c].get(term, 0) for c in sorted_classes if c != cls)\n",
    "                C = np.mean([class_term_frequencies[c].get(term, 0) for c in sorted_classes])\n",
    "                D = np.mean([class_term_frequencies[c].get(term, 0) for c in sorted_classes if c != cls])\n",
    "\n",
    "                score += math.log(1 + n_tk_ci) * idf * math.log(1 + RIR_cls ** 0.5) * (\n",
    "                    math.log(1 + A / max(1, B)) +\n",
    "                    math.log(1 + A / max(1, C)) +\n",
    "                    math.log(1 + A * max(0, D))\n",
    "                )\n",
    "\n",
    "            doc_features.append(score)\n",
    "        features.append(doc_features)\n",
    "\n",
    "    return normalize(np.array(features))\n"
   ]
  },
  {
   "cell_type": "code",
   "execution_count": 31,
   "id": "cdda1f3c-7c25-411d-90e0-078b760bf4cb",
   "metadata": {},
   "outputs": [],
   "source": [
    "def afe_mert_model(train_df, test_df, class_frequencies):\n",
    "    X_train = afe_mert_features(train_df, class_frequencies)\n",
    "    X_test = afe_mert_features(test_df, class_frequencies)\n",
    "    y_train = train_df['category']\n",
    "    y_test = test_df['category']\n",
    "\n",
    "    # Train classifier\n",
    "    model = LinearSVC()\n",
    "    model.fit(X_train, y_train)\n",
    "\n",
    "    # Evaluate\n",
    "    predictions = model.predict(X_test)\n",
    "    print(\"\\nModel Performance (AFE-MERT):\")\n",
    "    print(classification_report(y_test, predictions))\n",
    "    return f1_score(y_test, predictions, average='macro'), f1_score(y_test, predictions, average='micro')"
   ]
  },
  {
   "cell_type": "code",
   "execution_count": 33,
   "id": "2bfb5feb-f582-405d-be2c-8385984b2abb",
   "metadata": {},
   "outputs": [],
   "source": [
    "reuters_df = load_reuters()"
   ]
  },
  {
   "cell_type": "code",
   "execution_count": 35,
   "id": "21d8c5bb-7401-48e0-a42d-19708a464fd7",
   "metadata": {},
   "outputs": [],
   "source": [
    "reuters_df['text'] = reuters_df['text'].apply(lambda x: \" \".join(preprocess_text(x)))"
   ]
  },
  {
   "cell_type": "code",
   "execution_count": 36,
   "id": "d1b268a8-d3d1-406d-b5bf-0fbcd4273e1d",
   "metadata": {},
   "outputs": [],
   "source": [
    "class_frequencies = reuters_df['category'].value_counts().to_dict()"
   ]
  },
  {
   "cell_type": "code",
   "execution_count": 37,
   "id": "d82c55bb-faa0-406f-b66c-3bfd91ed1263",
   "metadata": {},
   "outputs": [],
   "source": [
    "from sklearn.utils import resample\n",
    "\n",
    "def oversample_minority_classes(df):\n",
    "    # Find classes with less than 2 instances\n",
    "    counts = df['category'].value_counts()\n",
    "    minority_classes = counts[counts < 2].index\n",
    "\n",
    "    # Oversample these classes\n",
    "    dfs = [df]\n",
    "    for cls in minority_classes:\n",
    "        class_df = df[df['category'] == cls]\n",
    "        oversampled_class = resample(class_df, replace=True, n_samples=2, random_state=42)\n",
    "        dfs.append(oversampled_class)\n",
    "\n",
    "    # Combine all dataframes\n",
    "    return pd.concat(dfs, ignore_index=True)\n",
    "\n",
    "# Apply oversampling\n",
    "reuters_df = oversample_minority_classes(reuters_df)"
   ]
  },
  {
   "cell_type": "code",
   "execution_count": 38,
   "id": "395071d3-32ce-4619-970d-dd1edb9ce676",
   "metadata": {},
   "outputs": [],
   "source": [
    "train_df, test_df = train_test_split(reuters_df, test_size=0.3, stratify=reuters_df['category'], random_state=42)"
   ]
  },
  {
   "cell_type": "code",
   "execution_count": 39,
   "id": "8acbd1fb-d43f-450c-b854-6dff8c49c273",
   "metadata": {},
   "outputs": [
    {
     "name": "stdout",
     "output_type": "stream",
     "text": [
      "\n",
      "Baseline Model Performance (TF-IDF):\n",
      "                 precision    recall  f1-score   support\n",
      "\n",
      "            acq       0.93      0.99      0.96       688\n",
      "           alum       0.93      0.87      0.90        15\n",
      "            bop       1.00      0.67      0.80         9\n",
      "        carcass       1.00      1.00      1.00         3\n",
      "          cocoa       1.00      1.00      1.00        18\n",
      "        coconut       1.00      1.00      1.00         1\n",
      "         coffee       0.97      1.00      0.99        34\n",
      "         copper       0.93      1.00      0.96        13\n",
      "         cotton       1.00      0.86      0.92         7\n",
      "            cpi       0.84      1.00      0.91        21\n",
      "            cpu       0.00      0.00      0.00         1\n",
      "          crude       0.94      0.92      0.93       112\n",
      "            dlr       0.00      0.00      0.00         2\n",
      "            dmk       0.50      1.00      0.67         1\n",
      "           earn       0.99      0.98      0.99      1177\n",
      "           fuel       0.67      0.67      0.67         3\n",
      "            gas       1.00      0.80      0.89         5\n",
      "            gnp       1.00      0.91      0.95        22\n",
      "           gold       0.96      1.00      0.98        27\n",
      "          grain       0.92      0.73      0.81        15\n",
      "      groundnut       0.00      0.00      0.00         1\n",
      "           heat       1.00      0.33      0.50         3\n",
      "            hog       1.00      1.00      1.00         1\n",
      "        housing       1.00      0.80      0.89         5\n",
      "         income       1.00      1.00      1.00         3\n",
      "    instal-debt       1.00      1.00      1.00         2\n",
      "       interest       0.94      0.88      0.91        82\n",
      "            ipi       1.00      0.86      0.92        14\n",
      "     iron-steel       0.83      0.91      0.87        11\n",
      "            jet       1.00      1.00      1.00         1\n",
      "           jobs       0.93      0.93      0.93        15\n",
      "       l-cattle       1.00      1.00      1.00         1\n",
      "           lead       1.00      1.00      1.00         2\n",
      "            lei       1.00      1.00      1.00         4\n",
      "      livestock       0.86      0.86      0.86         7\n",
      "         lumber       0.50      0.25      0.33         4\n",
      "      meal-feed       0.50      0.33      0.40         3\n",
      "       money-fx       0.83      0.85      0.84        93\n",
      "   money-supply       1.00      0.89      0.94        45\n",
      "        naphtha       1.00      1.00      1.00         1\n",
      "        nat-gas       0.90      0.82      0.86        11\n",
      "         nickel       1.00      1.00      1.00         1\n",
      "          nzdlr       1.00      1.00      1.00         1\n",
      "        oilseed       0.50      0.33      0.40         3\n",
      "         orange       1.00      1.00      1.00         7\n",
      "       pet-chem       1.00      0.33      0.50         6\n",
      "       platinum       0.00      0.00      0.00         1\n",
      "         potato       1.00      1.00      1.00         1\n",
      "        propane       1.00      1.00      1.00         1\n",
      "           rand       1.00      1.00      1.00         1\n",
      "       reserves       1.00      0.93      0.97        15\n",
      "         retail       0.80      0.67      0.73         6\n",
      "           rice       1.00      1.00      1.00         1\n",
      "         rubber       1.00      0.92      0.96        12\n",
      "           ship       0.95      0.93      0.94        43\n",
      "         silver       0.00      0.00      0.00         1\n",
      "strategic-metal       1.00      0.60      0.75         5\n",
      "          sugar       0.95      0.97      0.96        37\n",
      "            tea       1.00      1.00      1.00         1\n",
      "            tin       1.00      1.00      1.00         8\n",
      "          trade       0.83      0.92      0.87        98\n",
      "        veg-oil       0.75      0.67      0.71         9\n",
      "            wpi       1.00      1.00      1.00         7\n",
      "            yen       1.00      0.50      0.67         2\n",
      "           zinc       1.00      1.00      1.00         4\n",
      "\n",
      "       accuracy                           0.95      2754\n",
      "      macro avg       0.86      0.80      0.82      2754\n",
      "   weighted avg       0.95      0.95      0.95      2754\n",
      "\n"
     ]
    },
    {
     "name": "stderr",
     "output_type": "stream",
     "text": [
      "/opt/anaconda3/lib/python3.12/site-packages/sklearn/metrics/_classification.py:1531: UndefinedMetricWarning: Precision is ill-defined and being set to 0.0 in labels with no predicted samples. Use `zero_division` parameter to control this behavior.\n",
      "  _warn_prf(average, modifier, f\"{metric.capitalize()} is\", len(result))\n",
      "/opt/anaconda3/lib/python3.12/site-packages/sklearn/metrics/_classification.py:1531: UndefinedMetricWarning: Precision is ill-defined and being set to 0.0 in labels with no predicted samples. Use `zero_division` parameter to control this behavior.\n",
      "  _warn_prf(average, modifier, f\"{metric.capitalize()} is\", len(result))\n",
      "/opt/anaconda3/lib/python3.12/site-packages/sklearn/metrics/_classification.py:1531: UndefinedMetricWarning: Precision is ill-defined and being set to 0.0 in labels with no predicted samples. Use `zero_division` parameter to control this behavior.\n",
      "  _warn_prf(average, modifier, f\"{metric.capitalize()} is\", len(result))\n"
     ]
    }
   ],
   "source": [
    "baseline_f1_macro, baseline_f1_micro = baseline_model(\n",
    "        train_df['text'], test_df['text'], train_df['category'], test_df['category']\n",
    "    )"
   ]
  },
  {
   "cell_type": "code",
   "execution_count": 40,
   "id": "2d306c05-e665-4d7d-a3dc-859a7a19823a",
   "metadata": {},
   "outputs": [
    {
     "name": "stdout",
     "output_type": "stream",
     "text": [
      "\n",
      "Model Performance (AFE-MERT):\n",
      "                 precision    recall  f1-score   support\n",
      "\n",
      "            acq       0.94      0.99      0.97       688\n",
      "           alum       1.00      0.73      0.85        15\n",
      "            bop       1.00      0.78      0.88         9\n",
      "        carcass       1.00      1.00      1.00         3\n",
      "          cocoa       1.00      0.83      0.91        18\n",
      "        coconut       1.00      1.00      1.00         1\n",
      "         coffee       1.00      0.97      0.99        34\n",
      "         copper       1.00      1.00      1.00        13\n",
      "         cotton       1.00      1.00      1.00         7\n",
      "            cpi       0.78      1.00      0.88        21\n",
      "            cpu       0.00      0.00      0.00         1\n",
      "          crude       0.95      0.96      0.95       112\n",
      "            dlr       0.00      0.00      0.00         2\n",
      "            dmk       0.00      0.00      0.00         1\n",
      "           earn       0.96      0.99      0.97      1177\n",
      "           fuel       0.67      0.67      0.67         3\n",
      "            gas       1.00      0.80      0.89         5\n",
      "            gnp       0.96      1.00      0.98        22\n",
      "           gold       1.00      0.96      0.98        27\n",
      "          grain       1.00      0.80      0.89        15\n",
      "      groundnut       0.00      0.00      0.00         1\n",
      "           heat       1.00      0.33      0.50         3\n",
      "            hog       1.00      1.00      1.00         1\n",
      "        housing       1.00      0.60      0.75         5\n",
      "         income       0.00      0.00      0.00         3\n",
      "    instal-debt       0.00      0.00      0.00         2\n",
      "       interest       0.94      0.93      0.93        82\n",
      "            ipi       1.00      0.79      0.88        14\n",
      "     iron-steel       0.92      1.00      0.96        11\n",
      "            jet       0.00      0.00      0.00         1\n",
      "           jobs       1.00      0.93      0.97        15\n",
      "       l-cattle       0.00      0.00      0.00         1\n",
      "           lead       1.00      1.00      1.00         2\n",
      "            lei       1.00      1.00      1.00         4\n",
      "      livestock       1.00      0.86      0.92         7\n",
      "         lumber       1.00      0.25      0.40         4\n",
      "      meal-feed       0.00      0.00      0.00         3\n",
      "       money-fx       0.94      0.88      0.91        93\n",
      "   money-supply       0.95      0.89      0.92        45\n",
      "        naphtha       0.00      0.00      0.00         1\n",
      "        nat-gas       1.00      0.82      0.90        11\n",
      "         nickel       0.00      0.00      0.00         1\n",
      "          nzdlr       0.00      0.00      0.00         1\n",
      "        oilseed       1.00      0.33      0.50         3\n",
      "         orange       1.00      0.86      0.92         7\n",
      "       pet-chem       1.00      1.00      1.00         6\n",
      "       platinum       0.00      0.00      0.00         1\n",
      "         potato       0.00      0.00      0.00         1\n",
      "        propane       1.00      1.00      1.00         1\n",
      "           rand       0.00      0.00      0.00         1\n",
      "       reserves       0.93      0.93      0.93        15\n",
      "         retail       0.00      0.00      0.00         6\n",
      "           rice       0.00      0.00      0.00         1\n",
      "         rubber       1.00      1.00      1.00        12\n",
      "           ship       1.00      0.91      0.95        43\n",
      "         silver       0.00      0.00      0.00         1\n",
      "strategic-metal       1.00      0.60      0.75         5\n",
      "          sugar       0.86      0.97      0.91        37\n",
      "            tea       1.00      1.00      1.00         1\n",
      "            tin       1.00      1.00      1.00         8\n",
      "          trade       0.88      0.97      0.92        98\n",
      "        veg-oil       1.00      0.67      0.80         9\n",
      "            wpi       1.00      0.29      0.44         7\n",
      "            yen       0.00      0.00      0.00         2\n",
      "           zinc       1.00      0.50      0.67         4\n",
      "\n",
      "       accuracy                           0.95      2754\n",
      "      macro avg       0.69      0.60      0.63      2754\n",
      "   weighted avg       0.94      0.95      0.94      2754\n",
      "\n"
     ]
    },
    {
     "name": "stderr",
     "output_type": "stream",
     "text": [
      "/opt/anaconda3/lib/python3.12/site-packages/sklearn/metrics/_classification.py:1531: UndefinedMetricWarning: Precision is ill-defined and being set to 0.0 in labels with no predicted samples. Use `zero_division` parameter to control this behavior.\n",
      "  _warn_prf(average, modifier, f\"{metric.capitalize()} is\", len(result))\n",
      "/opt/anaconda3/lib/python3.12/site-packages/sklearn/metrics/_classification.py:1531: UndefinedMetricWarning: Precision is ill-defined and being set to 0.0 in labels with no predicted samples. Use `zero_division` parameter to control this behavior.\n",
      "  _warn_prf(average, modifier, f\"{metric.capitalize()} is\", len(result))\n",
      "/opt/anaconda3/lib/python3.12/site-packages/sklearn/metrics/_classification.py:1531: UndefinedMetricWarning: Precision is ill-defined and being set to 0.0 in labels with no predicted samples. Use `zero_division` parameter to control this behavior.\n",
      "  _warn_prf(average, modifier, f\"{metric.capitalize()} is\", len(result))\n"
     ]
    }
   ],
   "source": [
    "afe_f1_macro, afe_f1_micro = afe_mert_model(train_df, test_df, class_frequencies)"
   ]
  },
  {
   "cell_type": "code",
   "execution_count": 41,
   "id": "4f23d1d6-8b6a-48e1-b50f-09e49e90b601",
   "metadata": {},
   "outputs": [
    {
     "name": "stdout",
     "output_type": "stream",
     "text": [
      "\n",
      "Comparison of Results:\n",
      "Baseline F1-Macro: 0.8157, F1-Micro: 0.9521\n",
      "AFE-MERT F1-Macro: 0.6250, F1-Micro: 0.9513\n"
     ]
    }
   ],
   "source": [
    "print(\"\\nComparison of Results:\")\n",
    "print(f\"Baseline F1-Macro: {baseline_f1_macro:.4f}, F1-Micro: {baseline_f1_micro:.4f}\")\n",
    "print(f\"AFE-MERT F1-Macro: {afe_f1_macro:.4f}, F1-Micro: {afe_f1_micro:.4f}\")"
   ]
  }
 ],
 "metadata": {
  "kernelspec": {
   "display_name": "Python [conda env:base] *",
   "language": "python",
   "name": "conda-base-py"
  },
  "language_info": {
   "codemirror_mode": {
    "name": "ipython",
    "version": 3
   },
   "file_extension": ".py",
   "mimetype": "text/x-python",
   "name": "python",
   "nbconvert_exporter": "python",
   "pygments_lexer": "ipython3",
   "version": "3.12.7"
  }
 },
 "nbformat": 4,
 "nbformat_minor": 5
}
