{
 "cells": [
  {
   "cell_type": "code",
   "execution_count": 1,
   "id": "510665e2-2585-4bdf-979c-8c077fe51e6f",
   "metadata": {},
   "outputs": [],
   "source": [
    "from sklearn.datasets import fetch_20newsgroups\n",
    "from sklearn.ensemble import RandomForestClassifier\n",
    "from sklearn.metrics import classification_report\n",
    "from sklearn.model_selection import train_test_split\n",
    "from sklearn.feature_extraction.text import TfidfVectorizer\n",
    "from imblearn.over_sampling import SMOTE\n",
    "from imblearn.under_sampling import RandomUnderSampler\n",
    "from sklearn.utils.class_weight import compute_class_weight\n",
    "import shap\n",
    "import matplotlib.pyplot as plt\n",
    "import pandas as pd\n",
    "import numpy as np\n",
    "import nltk\n",
    "from nltk.corpus import stopwords\n",
    "from nltk.stem import PorterStemmer\n",
    "import math\n",
    "from collections import Counter\n"
   ]
  },
  {
   "cell_type": "code",
   "execution_count": 3,
   "id": "ef6b4b10-b6a3-44e7-bb06-b9798a61a8c6",
   "metadata": {},
   "outputs": [
    {
     "name": "stderr",
     "output_type": "stream",
     "text": [
      "[nltk_data] Downloading package stopwords to\n",
      "[nltk_data]     /Users/deepanshurao0001/nltk_data...\n",
      "[nltk_data]   Package stopwords is already up-to-date!\n",
      "[nltk_data] Downloading package punkt to\n",
      "[nltk_data]     /Users/deepanshurao0001/nltk_data...\n",
      "[nltk_data]   Package punkt is already up-to-date!\n"
     ]
    },
    {
     "data": {
      "text/plain": [
       "True"
      ]
     },
     "execution_count": 3,
     "metadata": {},
     "output_type": "execute_result"
    }
   ],
   "source": [
    "nltk.download('stopwords')\n",
    "nltk.download('punkt')"
   ]
  },
  {
   "cell_type": "code",
   "execution_count": 5,
   "id": "cab8f7fd-eb70-497e-82a1-c24353374c06",
   "metadata": {},
   "outputs": [],
   "source": [
    "stemmer = PorterStemmer()\n",
    "stop_words = set(stopwords.words('english'))"
   ]
  },
  {
   "cell_type": "code",
   "execution_count": 7,
   "id": "01e51021-3738-4975-864c-84d319d56866",
   "metadata": {},
   "outputs": [],
   "source": [
    "def load_newsgroups():\n",
    "    newsgroups = fetch_20newsgroups(subset='all', remove=('headers', 'footers', 'quotes'))\n",
    "    df = pd.DataFrame({'text': newsgroups.data, 'category': newsgroups.target})\n",
    "    return df, newsgroups.target_names\n"
   ]
  },
  {
   "cell_type": "code",
   "execution_count": 9,
   "id": "504a7866-86e7-407b-a251-11b7cdc58033",
   "metadata": {},
   "outputs": [],
   "source": [
    "def preprocess_text(text):\n",
    "    tokens = nltk.word_tokenize(text.lower())\n",
    "    tokens = [stemmer.stem(word) for word in tokens if word.isalpha() and word not in stop_words]\n",
    "    return tokens"
   ]
  },
  {
   "cell_type": "code",
   "execution_count": 11,
   "id": "f6c0d44c-fdfc-4baf-851f-39ccb8bfb22c",
   "metadata": {},
   "outputs": [],
   "source": [
    "from sklearn.preprocessing import normalize"
   ]
  },
  {
   "cell_type": "code",
   "execution_count": 13,
   "id": "fd87f840-6a43-419c-a053-5fa0c117c1e7",
   "metadata": {},
   "outputs": [],
   "source": [
    "def afe_mert_features(df, class_frequencies):\n",
    "    terms = Counter()\n",
    "    class_term_frequencies = {}\n",
    "\n",
    "    for _, row in df.iterrows():\n",
    "        class_label = row['category']\n",
    "        text_tokens = preprocess_text(row['text'])\n",
    "        terms.update(text_tokens)\n",
    "        if class_label not in class_term_frequencies:\n",
    "            class_term_frequencies[class_label] = Counter()\n",
    "        class_term_frequencies[class_label].update(text_tokens)\n",
    "\n",
    "    # Calculate RIR\n",
    "    max_class_size = max(class_frequencies.values())\n",
    "    rir = {cls: max_class_size / freq for cls, freq in class_frequencies.items()}\n",
    "\n",
    "    # Create AFE-MERT features\n",
    "    features = []\n",
    "    for _, row in df.iterrows():\n",
    "        text_tokens = preprocess_text(row['text'])\n",
    "        doc_features = []\n",
    "        for cls in class_frequencies.keys():\n",
    "            score = 0\n",
    "            for term in text_tokens:\n",
    "                n_tk_ci = class_term_frequencies[cls].get(term, 0)\n",
    "                idf = math.log(len(df) / (1 + terms[term]))\n",
    "                A = class_term_frequencies[cls].get(term, 0)\n",
    "                B = sum(class_term_frequencies[c].get(term, 0) for c in class_frequencies.keys() if c != cls)\n",
    "                RIR_cls = rir[cls]\n",
    "                score += math.log(1 + n_tk_ci) * idf * math.log(1 + RIR_cls ** 0.5) * math.log(1 + A / max(1, B))\n",
    "            doc_features.append(score)\n",
    "        features.append(doc_features)\n",
    "\n",
    "    return normalize(np.array(features))"
   ]
  },
  {
   "cell_type": "code",
   "execution_count": 15,
   "id": "5ab7c540-f3b7-464a-b2b3-4aa6073e9578",
   "metadata": {},
   "outputs": [],
   "source": [
    "def visualize_model_contributions(model, feature_matrix, instance_index=0, title=\"Model Contributions\"):\n",
    "   \n",
    "    explainer = shap.TreeExplainer(model)\n",
    "    shap_values = explainer.shap_values(feature_matrix)\n",
    "\n",
    "    print(f\"\\nVisualizing {title} for document at index {instance_index}...\")\n",
    "\n",
    "    shap.force_plot(\n",
    "        explainer.expected_value[1],\n",
    "        shap_values[1][instance_index],\n",
    "        feature_matrix[instance_index],\n",
    "        matplotlib=True\n",
    "    )\n",
    "    plt.title(f\"{title} (Instance {instance_index})\")\n",
    "    plt.show()\n",
    "\n",
    "    print(f\"\\nSummary of {title}:\")\n",
    "    shap.summary_plot(shap_values[1], feature_matrix, plot_type=\"bar\")\n"
   ]
  },
  {
   "cell_type": "code",
   "execution_count": 17,
   "id": "386390f7-cdd8-4b83-b40c-80963265f4fb",
   "metadata": {},
   "outputs": [],
   "source": [
    "newsgroups_df, target_names = load_newsgroups()\n"
   ]
  },
  {
   "cell_type": "code",
   "execution_count": 45,
   "id": "0c00bce3-dadb-478e-b605-647fabd49f0b",
   "metadata": {},
   "outputs": [],
   "source": [
    "newsgroups_df['text'] = newsgroups_df['text'].fillna(\"\").apply(lambda x: \" \".join(preprocess_text(x)))\n",
    "class_frequencies = newsgroups_df['category'].value_counts().to_dict()\n",
    "train_df, test_df = train_test_split(newsgroups_df, test_size=0.3, stratify=newsgroups_df['category'], random_state=42)"
   ]
  },
  {
   "cell_type": "code",
   "execution_count": 46,
   "id": "185fa595-0ff5-41b1-9115-f60e5183dc2a",
   "metadata": {},
   "outputs": [],
   "source": [
    "tfidf_vectorizer = TfidfVectorizer(max_features=1000)\n",
    "X_train_baseline = tfidf_vectorizer.fit_transform(train_df['text']).toarray()\n",
    "X_test_baseline = tfidf_vectorizer.transform(test_df['text']).toarray()\n",
    "X_train_afe = afe_mert_features(train_df, class_frequencies)\n",
    "X_test_afe = afe_mert_features(test_df, class_frequencies)\n",
    "y_train = train_df['category']\n",
    "y_test = test_df['category']"
   ]
  },
  {
   "cell_type": "code",
   "execution_count": 47,
   "id": "077d9eac-fce3-4d74-a098-45afb80095cf",
   "metadata": {},
   "outputs": [],
   "source": [
    "smote = SMOTE(random_state=42)\n",
    "X_train_smote, y_train_smote = smote.fit_resample(X_train_baseline, y_train)"
   ]
  },
  {
   "cell_type": "code",
   "execution_count": 48,
   "id": "13524109-155d-4595-a803-5da8bbd04cff",
   "metadata": {},
   "outputs": [],
   "source": [
    "undersample = RandomUnderSampler(random_state=42)\n",
    "X_train_under, y_train_under = undersample.fit_resample(X_train_baseline, y_train)\n"
   ]
  },
  {
   "cell_type": "code",
   "execution_count": 49,
   "id": "598bd5d2-f94b-4638-8aff-632880a6769f",
   "metadata": {},
   "outputs": [],
   "source": [
    "class_weights = compute_class_weight('balanced', classes=np.unique(y_train), y=y_train)\n",
    "class_weight_dict = {i: class_weights[i] for i in range(len(class_weights))}\n"
   ]
  },
  {
   "cell_type": "code",
   "execution_count": 50,
   "id": "13b0aa4f-bd72-4cfa-9087-e28ba597d586",
   "metadata": {},
   "outputs": [],
   "source": [
    "rf_model = RandomForestClassifier(n_estimators=100, random_state=42)"
   ]
  },
  {
   "cell_type": "code",
   "execution_count": 51,
   "id": "18c4655b-595f-4ecd-895a-bdcd908996ab",
   "metadata": {},
   "outputs": [
    {
     "name": "stdout",
     "output_type": "stream",
     "text": [
      "\n",
      "SMOTE Model Results:\n",
      "                          precision    recall  f1-score   support\n",
      "\n",
      "             alt.atheism       0.36      0.32      0.34       240\n",
      "           comp.graphics       0.52      0.52      0.52       292\n",
      " comp.os.ms-windows.misc       0.57      0.56      0.57       296\n",
      "comp.sys.ibm.pc.hardware       0.48      0.54      0.51       295\n",
      "   comp.sys.mac.hardware       0.58      0.51      0.54       289\n",
      "          comp.windows.x       0.61      0.66      0.63       296\n",
      "            misc.forsale       0.64      0.69      0.66       293\n",
      "               rec.autos       0.37      0.60      0.46       297\n",
      "         rec.motorcycles       0.59      0.48      0.53       299\n",
      "      rec.sport.baseball       0.61      0.50      0.55       298\n",
      "        rec.sport.hockey       0.66      0.78      0.71       300\n",
      "               sci.crypt       0.71      0.64      0.67       297\n",
      "         sci.electronics       0.45      0.45      0.45       295\n",
      "                 sci.med       0.61      0.63      0.62       297\n",
      "               sci.space       0.67      0.58      0.62       296\n",
      "  soc.religion.christian       0.60      0.71      0.65       299\n",
      "      talk.politics.guns       0.53      0.54      0.53       273\n",
      "   talk.politics.mideast       0.84      0.68      0.75       282\n",
      "      talk.politics.misc       0.41      0.40      0.40       232\n",
      "      talk.religion.misc       0.21      0.12      0.15       188\n",
      "\n",
      "                accuracy                           0.56      5654\n",
      "               macro avg       0.55      0.54      0.54      5654\n",
      "            weighted avg       0.56      0.56      0.55      5654\n",
      "\n"
     ]
    }
   ],
   "source": [
    "rf_model.fit(X_train_smote, y_train_smote)\n",
    "smote_predictions = rf_model.predict(X_test_baseline)\n",
    "print(\"\\nSMOTE Model Results:\")\n",
    "print(classification_report(y_test, smote_predictions, target_names=target_names))\n"
   ]
  },
  {
   "cell_type": "code",
   "execution_count": 52,
   "id": "210a3820-2772-46ad-a793-b0cec6526389",
   "metadata": {},
   "outputs": [
    {
     "name": "stdout",
     "output_type": "stream",
     "text": [
      "\n",
      "Undersampling Model Results:\n",
      "                          precision    recall  f1-score   support\n",
      "\n",
      "             alt.atheism       0.40      0.37      0.38       240\n",
      "           comp.graphics       0.52      0.49      0.50       292\n",
      " comp.os.ms-windows.misc       0.54      0.55      0.54       296\n",
      "comp.sys.ibm.pc.hardware       0.45      0.44      0.45       295\n",
      "   comp.sys.mac.hardware       0.54      0.50      0.52       289\n",
      "          comp.windows.x       0.56      0.66      0.60       296\n",
      "            misc.forsale       0.60      0.67      0.63       293\n",
      "               rec.autos       0.37      0.62      0.47       297\n",
      "         rec.motorcycles       0.59      0.48      0.53       299\n",
      "      rec.sport.baseball       0.61      0.44      0.51       298\n",
      "        rec.sport.hockey       0.61      0.76      0.68       300\n",
      "               sci.crypt       0.70      0.63      0.66       297\n",
      "         sci.electronics       0.48      0.41      0.45       295\n",
      "                 sci.med       0.60      0.63      0.61       297\n",
      "               sci.space       0.65      0.58      0.61       296\n",
      "  soc.religion.christian       0.62      0.69      0.65       299\n",
      "      talk.politics.guns       0.55      0.55      0.55       273\n",
      "   talk.politics.mideast       0.85      0.68      0.76       282\n",
      "      talk.politics.misc       0.42      0.41      0.41       232\n",
      "      talk.religion.misc       0.20      0.14      0.16       188\n",
      "\n",
      "                accuracy                           0.55      5654\n",
      "               macro avg       0.54      0.54      0.53      5654\n",
      "            weighted avg       0.55      0.55      0.54      5654\n",
      "\n"
     ]
    }
   ],
   "source": [
    "rf_model.fit(X_train_under, y_train_under)\n",
    "under_predictions = rf_model.predict(X_test_baseline)\n",
    "print(\"\\nUndersampling Model Results:\")\n",
    "print(classification_report(y_test, under_predictions, target_names=target_names))"
   ]
  },
  {
   "cell_type": "code",
   "execution_count": 53,
   "id": "71c44df6-aac2-446a-b029-2de95b20f569",
   "metadata": {},
   "outputs": [
    {
     "name": "stdout",
     "output_type": "stream",
     "text": [
      "\n",
      "Class Weighting Model Results:\n",
      "                          precision    recall  f1-score   support\n",
      "\n",
      "             alt.atheism       0.46      0.31      0.37       240\n",
      "           comp.graphics       0.50      0.48      0.49       292\n",
      " comp.os.ms-windows.misc       0.57      0.56      0.56       296\n",
      "comp.sys.ibm.pc.hardware       0.48      0.51      0.49       295\n",
      "   comp.sys.mac.hardware       0.55      0.50      0.52       289\n",
      "          comp.windows.x       0.57      0.67      0.62       296\n",
      "            misc.forsale       0.64      0.70      0.67       293\n",
      "               rec.autos       0.36      0.60      0.45       297\n",
      "         rec.motorcycles       0.55      0.48      0.51       299\n",
      "      rec.sport.baseball       0.57      0.48      0.52       298\n",
      "        rec.sport.hockey       0.64      0.75      0.69       300\n",
      "               sci.crypt       0.71      0.64      0.67       297\n",
      "         sci.electronics       0.44      0.46      0.45       295\n",
      "                 sci.med       0.60      0.63      0.62       297\n",
      "               sci.space       0.63      0.56      0.59       296\n",
      "  soc.religion.christian       0.58      0.76      0.66       299\n",
      "      talk.politics.guns       0.54      0.56      0.55       273\n",
      "   talk.politics.mideast       0.80      0.67      0.73       282\n",
      "      talk.politics.misc       0.43      0.39      0.41       232\n",
      "      talk.religion.misc       0.23      0.07      0.11       188\n",
      "\n",
      "                accuracy                           0.55      5654\n",
      "               macro avg       0.54      0.54      0.53      5654\n",
      "            weighted avg       0.55      0.55      0.55      5654\n",
      "\n"
     ]
    }
   ],
   "source": [
    "from sklearn.utils.class_weight import compute_class_weight\n",
    "\n",
    "# Calculate class weights based on the training data\n",
    "class_weights = compute_class_weight('balanced', classes=np.unique(y_train), y=y_train)\n",
    "class_weight_dict = dict(zip(np.unique(y_train), class_weights))\n",
    "\n",
    "# Train the model with class weights\n",
    "rf_model.fit(X_train_baseline, y_train, sample_weight=[class_weight_dict[label] for label in y_train])\n",
    "weight_predictions = rf_model.predict(X_test_baseline)\n",
    "print(\"\\nClass Weighting Model Results:\")\n",
    "print(classification_report(y_test, weight_predictions, target_names=target_names))\n"
   ]
  },
  {
   "cell_type": "code",
   "execution_count": 54,
   "id": "9071466f-62bb-45b0-b8cf-e3c1ba2d1db8",
   "metadata": {},
   "outputs": [
    {
     "name": "stdout",
     "output_type": "stream",
     "text": [
      "\n",
      "AFE-MERT Model Results:\n",
      "                          precision    recall  f1-score   support\n",
      "\n",
      "             alt.atheism       0.88      0.64      0.74       240\n",
      "           comp.graphics       0.69      0.83      0.75       292\n",
      " comp.os.ms-windows.misc       0.82      0.72      0.77       296\n",
      "comp.sys.ibm.pc.hardware       0.82      0.77      0.79       295\n",
      "   comp.sys.mac.hardware       0.86      0.75      0.80       289\n",
      "          comp.windows.x       0.86      0.85      0.86       296\n",
      "            misc.forsale       0.89      0.84      0.87       293\n",
      "               rec.autos       0.58      0.83      0.68       297\n",
      "         rec.motorcycles       0.88      0.85      0.86       299\n",
      "      rec.sport.baseball       0.93      0.85      0.89       298\n",
      "        rec.sport.hockey       0.95      0.91      0.93       300\n",
      "               sci.crypt       0.72      0.90      0.80       297\n",
      "         sci.electronics       0.83      0.76      0.79       295\n",
      "                 sci.med       0.90      0.88      0.89       297\n",
      "               sci.space       0.80      0.89      0.84       296\n",
      "  soc.religion.christian       0.87      0.86      0.87       299\n",
      "      talk.politics.guns       0.93      0.65      0.76       273\n",
      "   talk.politics.mideast       0.84      0.87      0.86       282\n",
      "      talk.politics.misc       0.77      0.82      0.79       232\n",
      "      talk.religion.misc       0.70      0.82      0.75       188\n",
      "\n",
      "                accuracy                           0.82      5654\n",
      "               macro avg       0.83      0.81      0.82      5654\n",
      "            weighted avg       0.83      0.82      0.82      5654\n",
      "\n"
     ]
    }
   ],
   "source": [
    "rf_model.fit(X_train_afe, y_train)\n",
    "afe_predictions = rf_model.predict(X_test_afe)\n",
    "print(\"\\nAFE-MERT Model Results:\")\n",
    "print(classification_report(y_test, afe_predictions, target_names=target_names))\n"
   ]
  },
  {
   "cell_type": "code",
   "execution_count": 55,
   "id": "011d468a-ae5b-44a5-b451-0f3e69298080",
   "metadata": {},
   "outputs": [],
   "source": [
    "import seaborn as sns\n",
    "import matplotlib.pyplot as plt\n",
    "\n",
    "# Collect results into a DataFrame for visualization\n",
    "results = pd.DataFrame({\n",
    "    \"Technique\": [\"SMOTE\", \"Undersampling\", \"Class Weighting\", \"AFE-MERT\"],\n",
    "    \"Precision\": [\n",
    "        classification_report(y_test, smote_predictions, output_dict=True)['weighted avg']['precision'],\n",
    "        classification_report(y_test, under_predictions, output_dict=True)['weighted avg']['precision'],\n",
    "        classification_report(y_test, weight_predictions, output_dict=True)['weighted avg']['precision'],\n",
    "        classification_report(y_test, afe_predictions, output_dict=True)['weighted avg']['precision']\n",
    "    ],\n",
    "    \"Recall\": [\n",
    "        classification_report(y_test, smote_predictions, output_dict=True)['weighted avg']['recall'],\n",
    "        classification_report(y_test, under_predictions, output_dict=True)['weighted avg']['recall'],\n",
    "        classification_report(y_test, weight_predictions, output_dict=True)['weighted avg']['recall'],\n",
    "        classification_report(y_test, afe_predictions, output_dict=True)['weighted avg']['recall']\n",
    "    ],\n",
    "    \"F1-Score\": [\n",
    "        classification_report(y_test, smote_predictions, output_dict=True)['weighted avg']['f1-score'],\n",
    "        classification_report(y_test, under_predictions, output_dict=True)['weighted avg']['f1-score'],\n",
    "        classification_report(y_test, weight_predictions, output_dict=True)['weighted avg']['f1-score'],\n",
    "        classification_report(y_test, afe_predictions, output_dict=True)['weighted avg']['f1-score']\n",
    "    ]\n",
    "})"
   ]
  },
  {
   "cell_type": "code",
   "execution_count": 56,
   "id": "feb09626-2614-466f-a6c1-0a12c50eefcd",
   "metadata": {},
   "outputs": [
    {
     "data": {
      "image/png": "[encoded data removed]",
      "text/plain": [
       "<Figure size 1200x600 with 1 Axes>"
      ]
     },
     "metadata": {},
     "output_type": "display_data"
    }
   ],
   "source": [
    "# Bar plot for comparison\n",
    "plt.figure(figsize=(12, 6))\n",
    "sns.barplot(data=results.melt(id_vars=\"Technique\"), x=\"Technique\", y=\"value\", hue=\"variable\", palette=\"muted\")\n",
    "plt.title(\"Comparison of Techniques across Metrics\")\n",
    "plt.ylabel(\"Score\")\n",
    "plt.xlabel(\"Technique\")\n",
    "plt.legend(title=\"Metrics\")\n",
    "plt.show()\n"
   ]
  },
  {
   "cell_type": "code",
   "execution_count": 57,
   "id": "bc231bb1-eb75-4192-b8f5-351ec81ce118",
   "metadata": {},
   "outputs": [
    {
     "data": {
      "image/png": "[encoded data removed]",
      "text/plain": [
       "<Figure size 800x600 with 2 Axes>"
      ]
     },
     "metadata": {},
     "output_type": "display_data"
    }
   ],
   "source": [
    "# Heatmap for metrics\n",
    "plt.figure(figsize=(8, 6))\n",
    "sns.heatmap(results.set_index(\"Technique\"), annot=True, cmap=\"coolwarm\", fmt=\".2f\")\n",
    "plt.title(\"Performance Heatmap of Techniques\")\n",
    "plt.ylabel(\"Technique\")\n",
    "plt.xlabel(\"Metrics\")\n",
    "plt.show()\n"
   ]
  },
  {
   "cell_type": "code",
   "execution_count": null,
   "id": "60eddaf0-7ca4-43d5-859f-42261b0ccf21",
   "metadata": {},
   "outputs": [],
   "source": []
  }
 ],
 "metadata": {
  "kernelspec": {
   "display_name": "Python [conda env:base] *",
   "language": "python",
   "name": "conda-base-py"
  },
  "language_info": {
   "codemirror_mode": {
    "name": "ipython",
    "version": 3
   },
   "file_extension": ".py",
   "mimetype": "text/x-python",
   "name": "python",
   "nbconvert_exporter": "python",
   "pygments_lexer": "ipython3",
   "version": "3.12.7"
  }
 },
 "nbformat": 4,
 "nbformat_minor": 5
}
