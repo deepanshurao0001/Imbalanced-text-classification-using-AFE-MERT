{
 "cells": [
  {
   "cell_type": "code",
   "execution_count": 69,
   "id": "db523323-31d9-40bd-873f-1f75e0a80ca0",
   "metadata": {},
   "outputs": [],
   "source": [
    "import nltk\n",
    "from nltk.corpus import reuters, stopwords\n",
    "from nltk.stem import PorterStemmer\n",
    "from sklearn.feature_extraction.text import TfidfVectorizer\n",
    "from sklearn.svm import LinearSVC\n",
    "from sklearn.metrics import f1_score, classification_report\n",
    "from sklearn.preprocessing import normalize\n",
    "from sklearn.model_selection import train_test_split\n",
    "import numpy as np\n",
    "import math\n",
    "from collections import Counter\n",
    "import pandas as pd"
   ]
  },
  {
   "cell_type": "code",
   "execution_count": 71,
   "id": "963d844c-08b7-4746-8edb-6c257b7b2c81",
   "metadata": {},
   "outputs": [
    {
     "name": "stderr",
     "output_type": "stream",
     "text": [
      "[nltk_data] Downloading package reuters to\n",
      "[nltk_data]     /Users/deepanshurao0001/nltk_data...\n",
      "[nltk_data]   Package reuters is already up-to-date!\n",
      "[nltk_data] Downloading package stopwords to\n",
      "[nltk_data]     /Users/deepanshurao0001/nltk_data...\n",
      "[nltk_data]   Package stopwords is already up-to-date!\n"
     ]
    },
    {
     "data": {
      "text/plain": [
       "True"
      ]
     },
     "execution_count": 71,
     "metadata": {},
     "output_type": "execute_result"
    }
   ],
   "source": [
    "nltk.download('reuters')\n",
    "nltk.download('stopwords')"
   ]
  },
  {
   "cell_type": "code",
   "execution_count": 73,
   "id": "11c2efbe-1dcd-4a36-b281-53aaeaba25d2",
   "metadata": {},
   "outputs": [],
   "source": [
    "stop_words = set(stopwords.words('english'))\n",
    "stemmer = PorterStemmer()"
   ]
  },
  {
   "cell_type": "code",
   "execution_count": 75,
   "id": "b4cdf43b-38d5-4552-a00d-8a8112fc39ea",
   "metadata": {},
   "outputs": [],
   "source": [
    "def load_reuters():\n",
    "    documents = [(reuters.raw(fileid), reuters.categories(fileid)[0])\n",
    "                 for fileid in reuters.fileids() if len(reuters.categories(fileid)) == 1]\n",
    "    df = pd.DataFrame(documents, columns=['text', 'category'])\n",
    "    return df"
   ]
  },
  {
   "cell_type": "code",
   "execution_count": 77,
   "id": "99416809-eff1-40e7-93d1-98fab8eac4b4",
   "metadata": {},
   "outputs": [],
   "source": [
    "def preprocess_text(text):\n",
    "    tokens = nltk.word_tokenize(text.lower())\n",
    "    tokens = [stemmer.stem(word) for word in tokens if word.isalpha() and word not in stop_words]\n",
    "    return tokens"
   ]
  },
  {
   "cell_type": "code",
   "execution_count": 79,
   "id": "a0b4cdfd-df9c-48a1-a168-df7beb131c82",
   "metadata": {},
   "outputs": [],
   "source": [
    "def baseline_model(train_texts, test_texts, train_labels, test_labels):\n",
    "    vectorizer = TfidfVectorizer()\n",
    "    X_train = vectorizer.fit_transform(train_texts)\n",
    "    X_test = vectorizer.transform(test_texts)\n",
    "\n",
    "    # Train classifier\n",
    "    model = LinearSVC()\n",
    "    model.fit(X_train, train_labels)\n",
    "\n",
    "    # Evaluate\n",
    "    predictions = model.predict(X_test)\n",
    "    print(\"\\nBaseline Model Performance (TF-IDF):\")\n",
    "    print(classification_report(test_labels, predictions))\n",
    "    return f1_score(test_labels, predictions, average='macro'), f1_score(test_labels, predictions, average='micro')"
   ]
  },
  {
   "cell_type": "code",
   "execution_count": 81,
   "id": "42316d74-1ca6-4ce3-9afb-c701a1d2777d",
   "metadata": {},
   "outputs": [],
   "source": [
    "from collections import Counter, defaultdict\n",
    "\n",
    "def compute_A_B_values(df, class_frequencies):\n",
    "    terms = Counter()\n",
    "    class_term_frequencies = {}\n",
    "\n",
    "    # Preprocess and count term frequencies per class\n",
    "    for _, row in df.iterrows():\n",
    "        class_label = row['category']\n",
    "        tokens = preprocess_text(row['text'])\n",
    "        terms.update(tokens)\n",
    "        if class_label not in class_term_frequencies:\n",
    "            class_term_frequencies[class_label] = Counter()\n",
    "        class_term_frequencies[class_label].update(tokens)\n",
    "\n",
    "    # Prepare A and B1, B2, ..., Bn values\n",
    "    A_B_dict = defaultdict(dict)\n",
    "    sorted_classes = sorted(class_frequencies.keys())  # consistent order\n",
    "\n",
    "    for term in terms:\n",
    "        for current_class in sorted_classes:\n",
    "            A = class_term_frequencies[current_class].get(term, 0)\n",
    "\n",
    "            B_values = {}\n",
    "            b_count = 1\n",
    "            for other_class in sorted_classes:\n",
    "                if other_class != current_class:\n",
    "                    B_values[f'B{b_count}'] = class_term_frequencies[other_class].get(term, 0)\n",
    "                    b_count += 1\n",
    "\n",
    "            A_B_dict[(term, current_class)] = {'A': A, **B_values}\n",
    "\n",
    "    return A_B_dict\n"
   ]
  },
  {
   "cell_type": "code",
   "execution_count": 83,
   "id": "c6f3f580-0a85-4f55-a039-1797ea528f34",
   "metadata": {},
   "outputs": [],
   "source": [
    "def afe_mert_features(df, class_frequencies):\n",
    "    terms = Counter()\n",
    "    class_term_frequencies = {}\n",
    "\n",
    "    for _, row in df.iterrows():\n",
    "        class_label = row['category']\n",
    "        text_tokens = preprocess_text(row['text'])\n",
    "        terms.update(text_tokens)\n",
    "        if class_label not in class_term_frequencies:\n",
    "            class_term_frequencies[class_label] = Counter()\n",
    "        class_term_frequencies[class_label].update(text_tokens)\n",
    "\n",
    "    # Calculate RIR\n",
    "    max_class_size = max(class_frequencies.values())\n",
    "    rir = {cls: max_class_size / freq for cls, freq in class_frequencies.items()}\n",
    "\n",
    "    # Create AFE-MERT features\n",
    "    features = []\n",
    "    for _, row in df.iterrows():\n",
    "        text_tokens = preprocess_text(row['text'])\n",
    "        doc_features = []\n",
    "        for cls in class_frequencies.keys():\n",
    "            score = 0\n",
    "            for term in text_tokens:\n",
    "                n_tk_ci = class_term_frequencies[cls].get(term, 0)\n",
    "                idf = math.log(len(df) / (1 + terms[term]))\n",
    "                A = class_term_frequencies[cls].get(term, 0)\n",
    "                B = sum(class_term_frequencies[c].get(term, 0) for c in class_frequencies) / len(class_frequencies)\n",
    "                #B = min(class_term_frequencies[c].get(term, 0) for c in class_frequencies.keys())\n",
    "                #B = sum(class_term_frequencies[c].get(term, 0) for c in class_frequencies.keys() if c != cls)\n",
    "                RIR_cls = rir[cls]\n",
    "                score += math.log(1 + n_tk_ci) * idf * math.log(1 + RIR_cls ** 0.5) * math.log(1 + A / max(1, B))\n",
    "            doc_features.append(score)\n",
    "        features.append(doc_features)\n",
    "\n",
    "    return normalize(np.array(features))"
   ]
  },
  {
   "cell_type": "code",
   "execution_count": 85,
   "id": "2591bd7c-245f-4619-9212-772f1f0e04be",
   "metadata": {},
   "outputs": [],
   "source": [
    "def afe_mert_model(train_df, test_df, class_frequencies):\n",
    "    X_train = afe_mert_features(train_df, class_frequencies)\n",
    "    X_test = afe_mert_features(test_df, class_frequencies)\n",
    "    y_train = train_df['category']\n",
    "    y_test = test_df['category']\n",
    "\n",
    "    # Train classifier\n",
    "    model = LinearSVC()\n",
    "    model.fit(X_train, y_train)\n",
    "\n",
    "    # Evaluate\n",
    "    predictions = model.predict(X_test)\n",
    "    print(\"\\nModel Performance (AFE-MERT):\")\n",
    "    print(classification_report(y_test, predictions))\n",
    "    return f1_score(y_test, predictions, average='macro'), f1_score(y_test, predictions, average='micro')"
   ]
  },
  {
   "cell_type": "code",
   "execution_count": 87,
   "id": "1e1f7c97-c917-4b1c-8bcc-4aa2e1f17d97",
   "metadata": {},
   "outputs": [],
   "source": [
    "reuters_df = load_reuters()"
   ]
  },
  {
   "cell_type": "code",
   "execution_count": 89,
   "id": "6a740121-1562-4fdc-a72f-10ffc8dd68df",
   "metadata": {},
   "outputs": [],
   "source": [
    "reuters_df['text'] = reuters_df['text'].apply(lambda x: \" \".join(preprocess_text(x)))"
   ]
  },
  {
   "cell_type": "code",
   "execution_count": 91,
   "id": "819cd82b-fbd4-4a0a-b65a-291d90d6cc7b",
   "metadata": {},
   "outputs": [],
   "source": [
    "class_frequencies = reuters_df['category'].value_counts().to_dict()"
   ]
  },
  {
   "cell_type": "code",
   "execution_count": 93,
   "id": "af9aba17-131d-4e3e-ad86-9a5f29628e2c",
   "metadata": {},
   "outputs": [],
   "source": [
    "from sklearn.utils import resample\n",
    "\n",
    "def oversample_minority_classes(df):\n",
    "    # Find classes with less than 2 instances\n",
    "    counts = df['category'].value_counts()\n",
    "    minority_classes = counts[counts < 2].index\n",
    "\n",
    "    # Oversample these classes\n",
    "    dfs = [df]\n",
    "    for cls in minority_classes:\n",
    "        class_df = df[df['category'] == cls]\n",
    "        oversampled_class = resample(class_df, replace=True, n_samples=2, random_state=42)\n",
    "        dfs.append(oversampled_class)\n",
    "\n",
    "    # Combine all dataframes\n",
    "    return pd.concat(dfs, ignore_index=True)\n",
    "\n",
    "# Apply oversampling\n",
    "reuters_df = oversample_minority_classes(reuters_df)"
   ]
  },
  {
   "cell_type": "code",
   "execution_count": 95,
   "id": "3f9f9874-bfb2-4e6c-bc9e-77fe0089db35",
   "metadata": {},
   "outputs": [],
   "source": [
    "train_df, test_df = train_test_split(reuters_df, test_size=0.3, stratify=reuters_df['category'], random_state=42)"
   ]
  },
  {
   "cell_type": "code",
   "execution_count": 97,
   "id": "b6db8a20-4790-4750-a1d4-204d3afb5ffd",
   "metadata": {},
   "outputs": [
    {
     "name": "stdout",
     "output_type": "stream",
     "text": [
      "\n",
      "Baseline Model Performance (TF-IDF):\n",
      "                 precision    recall  f1-score   support\n",
      "\n",
      "            acq       0.93      0.99      0.96       688\n",
      "           alum       0.93      0.87      0.90        15\n",
      "            bop       1.00      0.67      0.80         9\n",
      "        carcass       1.00      1.00      1.00         3\n",
      "          cocoa       1.00      1.00      1.00        18\n",
      "        coconut       1.00      1.00      1.00         1\n",
      "         coffee       0.97      1.00      0.99        34\n",
      "         copper       0.93      1.00      0.96        13\n",
      "         cotton       1.00      0.86      0.92         7\n",
      "            cpi       0.84      1.00      0.91        21\n",
      "            cpu       0.00      0.00      0.00         1\n",
      "          crude       0.94      0.92      0.93       112\n",
      "            dlr       0.00      0.00      0.00         2\n",
      "            dmk       0.50      1.00      0.67         1\n",
      "           earn       0.99      0.98      0.99      1177\n",
      "           fuel       0.67      0.67      0.67         3\n",
      "            gas       1.00      0.80      0.89         5\n",
      "            gnp       1.00      0.91      0.95        22\n",
      "           gold       0.96      1.00      0.98        27\n",
      "          grain       0.92      0.73      0.81        15\n",
      "      groundnut       0.00      0.00      0.00         1\n",
      "           heat       1.00      0.33      0.50         3\n",
      "            hog       1.00      1.00      1.00         1\n",
      "        housing       1.00      0.80      0.89         5\n",
      "         income       1.00      1.00      1.00         3\n",
      "    instal-debt       1.00      1.00      1.00         2\n",
      "       interest       0.94      0.88      0.91        82\n",
      "            ipi       1.00      0.86      0.92        14\n",
      "     iron-steel       0.83      0.91      0.87        11\n",
      "            jet       1.00      1.00      1.00         1\n",
      "           jobs       0.93      0.93      0.93        15\n",
      "       l-cattle       1.00      1.00      1.00         1\n",
      "           lead       1.00      1.00      1.00         2\n",
      "            lei       1.00      1.00      1.00         4\n",
      "      livestock       0.86      0.86      0.86         7\n",
      "         lumber       0.50      0.25      0.33         4\n",
      "      meal-feed       0.50      0.33      0.40         3\n",
      "       money-fx       0.83      0.85      0.84        93\n",
      "   money-supply       1.00      0.89      0.94        45\n",
      "        naphtha       1.00      1.00      1.00         1\n",
      "        nat-gas       0.90      0.82      0.86        11\n",
      "         nickel       1.00      1.00      1.00         1\n",
      "          nzdlr       1.00      1.00      1.00         1\n",
      "        oilseed       0.50      0.33      0.40         3\n",
      "         orange       1.00      1.00      1.00         7\n",
      "       pet-chem       1.00      0.33      0.50         6\n",
      "       platinum       0.00      0.00      0.00         1\n",
      "         potato       1.00      1.00      1.00         1\n",
      "        propane       1.00      1.00      1.00         1\n",
      "           rand       1.00      1.00      1.00         1\n",
      "       reserves       1.00      0.93      0.97        15\n",
      "         retail       0.80      0.67      0.73         6\n",
      "           rice       1.00      1.00      1.00         1\n",
      "         rubber       1.00      0.92      0.96        12\n",
      "           ship       0.95      0.93      0.94        43\n",
      "         silver       0.00      0.00      0.00         1\n",
      "strategic-metal       1.00      0.60      0.75         5\n",
      "          sugar       0.95      0.97      0.96        37\n",
      "            tea       1.00      1.00      1.00         1\n",
      "            tin       1.00      1.00      1.00         8\n",
      "          trade       0.83      0.92      0.87        98\n",
      "        veg-oil       0.75      0.67      0.71         9\n",
      "            wpi       1.00      1.00      1.00         7\n",
      "            yen       1.00      0.50      0.67         2\n",
      "           zinc       1.00      1.00      1.00         4\n",
      "\n",
      "       accuracy                           0.95      2754\n",
      "      macro avg       0.86      0.80      0.82      2754\n",
      "   weighted avg       0.95      0.95      0.95      2754\n",
      "\n"
     ]
    },
    {
     "name": "stderr",
     "output_type": "stream",
     "text": [
      "/opt/anaconda3/lib/python3.12/site-packages/sklearn/metrics/_classification.py:1531: UndefinedMetricWarning: Precision is ill-defined and being set to 0.0 in labels with no predicted samples. Use `zero_division` parameter to control this behavior.\n",
      "  _warn_prf(average, modifier, f\"{metric.capitalize()} is\", len(result))\n",
      "/opt/anaconda3/lib/python3.12/site-packages/sklearn/metrics/_classification.py:1531: UndefinedMetricWarning: Precision is ill-defined and being set to 0.0 in labels with no predicted samples. Use `zero_division` parameter to control this behavior.\n",
      "  _warn_prf(average, modifier, f\"{metric.capitalize()} is\", len(result))\n",
      "/opt/anaconda3/lib/python3.12/site-packages/sklearn/metrics/_classification.py:1531: UndefinedMetricWarning: Precision is ill-defined and being set to 0.0 in labels with no predicted samples. Use `zero_division` parameter to control this behavior.\n",
      "  _warn_prf(average, modifier, f\"{metric.capitalize()} is\", len(result))\n"
     ]
    }
   ],
   "source": [
    "baseline_f1_macro, baseline_f1_micro = baseline_model(\n",
    "        train_df['text'], test_df['text'], train_df['category'], test_df['category']\n",
    "    )"
   ]
  },
  {
   "cell_type": "code",
   "execution_count": 98,
   "id": "40e4af08-15bf-4263-8f0a-cd29de1c2add",
   "metadata": {},
   "outputs": [
    {
     "name": "stdout",
     "output_type": "stream",
     "text": [
      "\n",
      "Model Performance (AFE-MERT):\n",
      "                 precision    recall  f1-score   support\n",
      "\n",
      "            acq       0.97      0.99      0.98       688\n",
      "           alum       1.00      1.00      1.00        15\n",
      "            bop       1.00      1.00      1.00         9\n",
      "        carcass       1.00      1.00      1.00         3\n",
      "          cocoa       1.00      1.00      1.00        18\n",
      "        coconut       1.00      1.00      1.00         1\n",
      "         coffee       1.00      0.97      0.99        34\n",
      "         copper       1.00      1.00      1.00        13\n",
      "         cotton       1.00      1.00      1.00         7\n",
      "            cpi       0.81      1.00      0.89        21\n",
      "            cpu       0.00      0.00      0.00         1\n",
      "          crude       0.97      0.96      0.96       112\n",
      "            dlr       0.00      0.00      0.00         2\n",
      "            dmk       1.00      1.00      1.00         1\n",
      "           earn       0.98      0.99      0.98      1177\n",
      "           fuel       0.67      0.67      0.67         3\n",
      "            gas       1.00      1.00      1.00         5\n",
      "            gnp       0.92      1.00      0.96        22\n",
      "           gold       1.00      0.96      0.98        27\n",
      "          grain       1.00      0.93      0.97        15\n",
      "      groundnut       0.00      0.00      0.00         1\n",
      "           heat       1.00      0.67      0.80         3\n",
      "            hog       1.00      1.00      1.00         1\n",
      "        housing       1.00      0.80      0.89         5\n",
      "         income       1.00      0.33      0.50         3\n",
      "    instal-debt       0.00      0.00      0.00         2\n",
      "       interest       0.94      0.98      0.96        82\n",
      "            ipi       1.00      0.79      0.88        14\n",
      "     iron-steel       1.00      1.00      1.00        11\n",
      "            jet       0.00      0.00      0.00         1\n",
      "           jobs       1.00      0.93      0.97        15\n",
      "       l-cattle       1.00      1.00      1.00         1\n",
      "           lead       1.00      1.00      1.00         2\n",
      "            lei       1.00      1.00      1.00         4\n",
      "      livestock       1.00      1.00      1.00         7\n",
      "         lumber       1.00      1.00      1.00         4\n",
      "      meal-feed       1.00      1.00      1.00         3\n",
      "       money-fx       0.98      0.87      0.92        93\n",
      "   money-supply       0.95      0.89      0.92        45\n",
      "        naphtha       0.00      0.00      0.00         1\n",
      "        nat-gas       1.00      1.00      1.00        11\n",
      "         nickel       1.00      1.00      1.00         1\n",
      "          nzdlr       0.00      0.00      0.00         1\n",
      "        oilseed       1.00      1.00      1.00         3\n",
      "         orange       1.00      1.00      1.00         7\n",
      "       pet-chem       1.00      1.00      1.00         6\n",
      "       platinum       1.00      1.00      1.00         1\n",
      "         potato       1.00      1.00      1.00         1\n",
      "        propane       1.00      1.00      1.00         1\n",
      "           rand       0.00      0.00      0.00         1\n",
      "       reserves       0.94      1.00      0.97        15\n",
      "         retail       1.00      0.17      0.29         6\n",
      "           rice       1.00      1.00      1.00         1\n",
      "         rubber       1.00      1.00      1.00        12\n",
      "           ship       0.95      0.95      0.95        43\n",
      "         silver       0.00      0.00      0.00         1\n",
      "strategic-metal       1.00      1.00      1.00         5\n",
      "          sugar       0.97      1.00      0.99        37\n",
      "            tea       1.00      1.00      1.00         1\n",
      "            tin       1.00      1.00      1.00         8\n",
      "          trade       0.93      0.97      0.95        98\n",
      "        veg-oil       1.00      0.89      0.94         9\n",
      "            wpi       1.00      0.71      0.83         7\n",
      "            yen       1.00      1.00      1.00         2\n",
      "           zinc       1.00      1.00      1.00         4\n",
      "\n",
      "       accuracy                           0.97      2754\n",
      "      macro avg       0.85      0.81      0.82      2754\n",
      "   weighted avg       0.97      0.97      0.97      2754\n",
      "\n"
     ]
    },
    {
     "name": "stderr",
     "output_type": "stream",
     "text": [
      "/opt/anaconda3/lib/python3.12/site-packages/sklearn/metrics/_classification.py:1531: UndefinedMetricWarning: Precision is ill-defined and being set to 0.0 in labels with no predicted samples. Use `zero_division` parameter to control this behavior.\n",
      "  _warn_prf(average, modifier, f\"{metric.capitalize()} is\", len(result))\n",
      "/opt/anaconda3/lib/python3.12/site-packages/sklearn/metrics/_classification.py:1531: UndefinedMetricWarning: Precision is ill-defined and being set to 0.0 in labels with no predicted samples. Use `zero_division` parameter to control this behavior.\n",
      "  _warn_prf(average, modifier, f\"{metric.capitalize()} is\", len(result))\n",
      "/opt/anaconda3/lib/python3.12/site-packages/sklearn/metrics/_classification.py:1531: UndefinedMetricWarning: Precision is ill-defined and being set to 0.0 in labels with no predicted samples. Use `zero_division` parameter to control this behavior.\n",
      "  _warn_prf(average, modifier, f\"{metric.capitalize()} is\", len(result))\n"
     ]
    }
   ],
   "source": [
    "afe_f1_macro, afe_f1_micro = afe_mert_model(train_df, test_df, class_frequencies)"
   ]
  },
  {
   "cell_type": "code",
   "execution_count": 100,
   "id": "2810229c-dd72-40b9-8d61-f67dd304bd63",
   "metadata": {},
   "outputs": [
    {
     "name": "stdout",
     "output_type": "stream",
     "text": [
      "\n",
      "Comparison of Results:\n",
      "Baseline F1-Macro: 0.8157, F1-Micro: 0.9521\n",
      "AFE-MERT F1-Macro: 0.8173, F1-Micro: 0.9706\n"
     ]
    }
   ],
   "source": [
    "print(\"\\nComparison of Results:\")\n",
    "print(f\"Baseline F1-Macro: {baseline_f1_macro:.4f}, F1-Micro: {baseline_f1_micro:.4f}\")\n",
    "print(f\"AFE-MERT F1-Macro: {afe_f1_macro:.4f}, F1-Micro: {afe_f1_micro:.4f}\")"
   ]
  }
 ],
 "metadata": {
  "kernelspec": {
   "display_name": "Python [conda env:base] *",
   "language": "python",
   "name": "conda-base-py"
  },
  "language_info": {
   "codemirror_mode": {
    "name": "ipython",
    "version": 3
   },
   "file_extension": ".py",
   "mimetype": "text/x-python",
   "name": "python",
   "nbconvert_exporter": "python",
   "pygments_lexer": "ipython3",
   "version": "3.12.7"
  }
 },
 "nbformat": 4,
 "nbformat_minor": 5
}
